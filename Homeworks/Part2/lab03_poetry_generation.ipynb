{
  "cells": [
    {
      "cell_type": "markdown",
      "metadata": {
        "id": "FKyFFYXd4h8u"
      },
      "source": [
        "# <a href=\"https://girafe.ai/\" target=\"_blank\" rel=\"noopener noreferrer\"><img src=\"https://raw.githubusercontent.com/girafe-ai/ml-course/7096a5df4cada5ee651be1e3215c2f7fb8a7e0bf/logo_margin.svg\" alt=\"girafe-ai logo\" width=\"150px\" align=\"left\"></a> [ml-basic course](https://github.com/girafe-ai/ml-course) <a class=\"tocSkip\">"
      ]
    },
    {
      "cell_type": "markdown",
      "metadata": {
        "id": "p5YcoFEr4h8v"
      },
      "source": [
        "# Almost Shakespeare\n",
        "\n",
        "Let's try to generate some Shakespeare poetry using RNNs. The sonnets file is available in the notebook directory.\n",
        "\n",
        "Text generation can be designed in several steps:\n",
        "    \n",
        "1. Data loading\n",
        "2. Dictionary generation\n",
        "3. Data preprocessing\n",
        "4. Model (neural network) training\n",
        "5. Text generation (model evaluation)"
      ]
    },
    {
      "cell_type": "markdown",
      "metadata": {
        "id": "OTVgyfjv4h8w"
      },
      "source": [
        "### Data loading"
      ]
    },
    {
      "cell_type": "markdown",
      "metadata": {
        "id": "tsGrFIon4h8w"
      },
      "source": [
        "Shakespeare sonnets are awailable at this [link](http://www.gutenberg.org/ebooks/1041?msg=welcome_stranger). In addition, they are stored in the same directory as this notebook (`sonnetes.txt`).\n",
        "\n",
        "Simple preprocessing is already done for you in the next cell: all technical info is dropped.\n",
        "\n",
        "**Alternatively**\n",
        "\n",
        "You could use file `onegin.txt` with Russian texts or your natve language poetry to be able to assess results quality.\n",
        "\n",
        "**Note: In case of Onegin text you need to adjust reading procedure yourself!!!** (this file has a bit different format than `sonnets.txt`)"
      ]
    },
    {
      "cell_type": "code",
      "execution_count": 1,
      "metadata": {
        "id": "XiGDHyhj5C4V"
      },
      "outputs": [],
      "source": [
        "import torch\n",
        "import torch.nn.functional as F\n",
        "from torch import nn\n",
        "import matplotlib.pyplot as plt\n",
        "import numpy as np\n",
        "from random import sample\n",
        "from IPython.display import clear_output\n",
        "import re\n",
        "from typing import Optional, Sequence"
      ]
    },
    {
      "cell_type": "code",
      "execution_count": 2,
      "metadata": {
        "ExecuteTime": {
          "end_time": "2021-11-11T13:32:32.906264Z",
          "start_time": "2021-11-11T13:32:32.901604Z"
        },
        "id": "4g-YKJXF4h8x"
      },
      "outputs": [],
      "source": [
        "with open(\"sonnets.txt\", \"r\") as iofile:\n",
        "    text = iofile.readlines()\n",
        "\n",
        "TEXT_START = 45\n",
        "TEXT_END = -368\n",
        "text = text[TEXT_START:TEXT_END]\n",
        "assert len(text) == 2616"
      ]
    },
    {
      "cell_type": "markdown",
      "metadata": {
        "id": "TKHiMkoW4h8x"
      },
      "source": [
        "In opposite to the in-class practice, this time we want to predict complex text. Let's reduce the complexity of the task and lowercase all the symbols.\n",
        "\n",
        "Now variable `text` is a list of strings. Join all the strings into one and lowercase it."
      ]
    },
    {
      "cell_type": "code",
      "execution_count": 3,
      "metadata": {
        "ExecuteTime": {
          "end_time": "2021-11-11T16:16:31.398119Z",
          "start_time": "2021-11-11T16:16:31.380172Z"
        },
        "id": "9vabKH7k4h8y"
      },
      "outputs": [],
      "source": [
        "import string"
      ]
    },
    {
      "cell_type": "code",
      "execution_count": 4,
      "metadata": {},
      "outputs": [
        {
          "name": "stdout",
          "output_type": "stream",
          "text": [
            "['From fairest creatures we desire increase,', \"That thereby beauty's rose might never die,\", 'But as the riper should by time decease,', 'His tender heir might bear his memory:', 'But thou, contracted to thine own bright eyes,', \"Feed'st thy light's flame with self-substantial fuel,\", 'Making a famine where abundance lies,', 'Thy self thy foe, to thy sweet self too cruel:', \"Thou that art now the world's fresh ornament,\", 'And only herald to the gaudy spring,', 'Within thine own bud buriest thy content,', \"And tender churl mak'st waste in niggarding:\", 'Pity the world, or else this glutton be,', \"To eat the world's due, by the grave and thee.\"]\n"
          ]
        }
      ],
      "source": [
        "roman_numeral_pattern = re.compile(r'^\\s*[IVXLCDM]+\\s*$')\n",
        "\n",
        "poems = []\n",
        "stanza = []\n",
        "\n",
        "for line in text:\n",
        "    stripped_line = line.strip()\n",
        "    if stripped_line and not roman_numeral_pattern.match(stripped_line):\n",
        "        stanza.append(stripped_line)\n",
        "    elif not stripped_line and stanza:\n",
        "        poems.append(stanza)\n",
        "        stanza = []\n",
        "\n",
        "if stanza:\n",
        "    poems.append(stanza)\n",
        "\n",
        "print(poems[0])"
      ]
    },
    {
      "cell_type": "code",
      "execution_count": 5,
      "metadata": {},
      "outputs": [
        {
          "data": {
            "text/plain": [
              "154"
            ]
          },
          "execution_count": 5,
          "metadata": {},
          "output_type": "execute_result"
        }
      ],
      "source": [
        "len(poems)"
      ]
    },
    {
      "cell_type": "code",
      "execution_count": 6,
      "metadata": {},
      "outputs": [],
      "source": [
        "import spacy\n",
        "\n",
        "nlp = spacy.load(\"en_core_web_sm\")\n",
        "def lemmatize_stanza(stanza):\n",
        "    lemmatized = []\n",
        "    for line in stanza:\n",
        "        doc = nlp(line)\n",
        "        lemmatized.extend([token.lemma_ for token in doc if not token.is_punct and not token.is_space])\n",
        "        lemmatized.append('\\n')\n",
        "    return lemmatized"
      ]
    },
    {
      "cell_type": "code",
      "execution_count": 7,
      "metadata": {},
      "outputs": [],
      "source": [
        "lemmatized_poems = [lemmatize_stanza(stanza) for stanza in poems]"
      ]
    },
    {
      "cell_type": "code",
      "execution_count": 8,
      "metadata": {},
      "outputs": [
        {
          "name": "stdout",
          "output_type": "stream",
          "text": [
            "['from', 'fairest', 'creature', 'we', 'desire', 'increase', '\\n', 'that', 'thereby', 'beauty', \"'s\", 'rose', 'might', 'never', 'die', '\\n', 'but', 'as', 'the', 'riper', 'should', 'by', 'time', 'decease', '\\n', 'his', 'tender', 'heir', 'might', 'bear', 'his', 'memory', '\\n', 'but', 'thou', 'contract', 'to', 'thine', 'own', 'bright', 'eye', '\\n', \"Feed'st\", 'thy', 'light', \"'s\", 'flame', 'with', 'self', 'substantial', 'fuel', '\\n', 'make', 'a', 'famine', 'where', 'abundance', 'lie', '\\n', 'thy', 'self', 'thy', 'foe', 'to', 'thy', 'sweet', 'self', 'too', 'cruel', '\\n', 'thou', 'that', 'art', 'now', 'the', 'world', \"'s\", 'fresh', 'ornament', '\\n', 'and', 'only', 'herald', 'to', 'the', 'gaudy', 'spring', '\\n', 'within', 'thine', 'own', 'bud', 'buri', 'thy', 'content', '\\n', 'and', 'tender', 'churl', \"mak'st\", 'waste', 'in', 'niggarde', '\\n', 'pity', 'the', 'world', 'or', 'else', 'this', 'glutton', 'be', '\\n', 'to', 'eat', 'the', 'world', \"'s\", 'due', 'by', 'the', 'grave', 'and', 'thee', '\\n']\n"
          ]
        }
      ],
      "source": [
        "print(lemmatized_poems[0])"
      ]
    },
    {
      "cell_type": "code",
      "execution_count": 9,
      "metadata": {},
      "outputs": [
        {
          "name": "stdout",
          "output_type": "stream",
          "text": [
            "[['from'], ['fairest'], ['creature'], ['we'], ['desire'], ['increase'], ['\\n'], ['that'], ['thereby'], ['beauty'], [\"'s\"], ['rose'], ['might'], ['never'], ['die'], ['\\n'], ['but'], ['as'], ['the'], ['riper'], ['should'], ['by'], ['time'], ['decease'], ['\\n'], ['his'], ['tender'], ['heir'], ['might'], ['bear'], ['his'], ['memory'], ['\\n'], ['but'], ['thou'], ['contract'], ['to'], ['thine'], ['own'], ['bright'], ['eye'], ['\\n'], [\"Feed'st\"], ['thy'], ['light'], [\"'s\"], ['flame'], ['with'], ['self'], ['substantial'], ['fuel'], ['\\n'], ['make'], ['a'], ['famine'], ['where'], ['abundance'], ['lie'], ['\\n'], ['thy'], ['self'], ['thy'], ['foe'], ['to'], ['thy'], ['sweet'], ['self'], ['too'], ['cruel'], ['\\n'], ['thou'], ['that'], ['art'], ['now'], ['the'], ['world'], [\"'s\"], ['fresh'], ['ornament'], ['\\n'], ['and'], ['only'], ['herald'], ['to'], ['the'], ['gaudy'], ['spring'], ['\\n'], ['within'], ['thine'], ['own'], ['bud'], ['buri'], ['thy'], ['content'], ['\\n'], ['and'], ['tender'], ['churl'], [\"mak'st\"], ['waste'], ['in'], ['niggarde'], ['\\n'], ['pity'], ['the'], ['world'], ['or'], ['else'], ['this'], ['glutton'], ['be'], ['\\n'], ['to'], ['eat'], ['the'], ['world'], [\"'s\"], ['due'], ['by'], ['the'], ['grave'], ['and'], ['thee'], ['\\n']]\n",
            "154\n"
          ]
        }
      ],
      "source": [
        "wrapped_poems = [[[word] for word in stanza] for stanza in lemmatized_poems]\n",
        "\n",
        "print(wrapped_poems[0])\n",
        "print(len(wrapped_poems))"
      ]
    },
    {
      "cell_type": "code",
      "execution_count": 10,
      "metadata": {},
      "outputs": [],
      "source": [
        "text = wrapped_poems"
      ]
    },
    {
      "cell_type": "code",
      "execution_count": 11,
      "metadata": {},
      "outputs": [],
      "source": [
        "tokens = {word: idx for idx, word in enumerate(set(word for stanza in lemmatized_poems for word in stanza))}"
      ]
    },
    {
      "cell_type": "code",
      "execution_count": 12,
      "metadata": {},
      "outputs": [
        {
          "data": {
            "text/plain": [
              "2661"
            ]
          },
          "execution_count": 12,
          "metadata": {},
          "output_type": "execute_result"
        }
      ],
      "source": [
        "len(tokens)"
      ]
    },
    {
      "cell_type": "code",
      "execution_count": 13,
      "metadata": {},
      "outputs": [],
      "source": [
        "lengths = list(map(len, text))\n",
        "MAX_LENGTH = max(lengths)"
      ]
    },
    {
      "cell_type": "markdown",
      "metadata": {
        "id": "qheL7uXd4h8y"
      },
      "source": [
        "Put all the characters, that you've seen in the text, into variable `tokens`."
      ]
    },
    {
      "cell_type": "markdown",
      "metadata": {
        "id": "drIfklai4h8z"
      },
      "source": [
        "Create dictionary `token_to_idx = {<char>: <index>}` and dictionary `idx_to_token = {<index>: <char>}`"
      ]
    },
    {
      "cell_type": "code",
      "execution_count": 14,
      "metadata": {
        "id": "yfNo50M14h8z"
      },
      "outputs": [],
      "source": [
        "# dict <index>:<char>\n",
        "# Your great code here\n",
        "\n",
        "# dict <char>:<index>\n",
        "# Your great code here\n",
        "PAD_TOKEN = \"\\n\"\n",
        "# END_TOKEN = \"\\n\"\n",
        "\n",
        "token_to_idx = {char: idx for idx, char in enumerate(tokens)}\n",
        "idx_to_token = {idx: char for idx, char in enumerate(tokens)}"
      ]
    },
    {
      "cell_type": "code",
      "execution_count": 15,
      "metadata": {
        "id": "u2MDjZSdCkKM"
      },
      "outputs": [],
      "source": [
        "def text_to_matrix(\n",
        "    names: Sequence[str],\n",
        "    max_len: Optional[int] = None,\n",
        "    pad: int = token_to_idx[PAD_TOKEN],\n",
        "    dtype=np.int64,\n",
        "    batch_first: bool = True,\n",
        "):\n",
        "    max_len = max_len or max(map(len, names))\n",
        "    text_idx = np.full((len(names), MAX_LENGTH), pad, np.int64)\n",
        "\n",
        "    for i, word in enumerate(names):\n",
        "        line_ix = [token_to_idx[char[0]] for char in word]\n",
        "        text_idx[i, : len(line_ix)] = line_ix\n",
        "\n",
        "\n",
        "    return text_idx"
      ]
    },
    {
      "cell_type": "code",
      "execution_count": 16,
      "metadata": {},
      "outputs": [],
      "source": [
        "text_idx = np.full((len(text), MAX_LENGTH), token_to_idx[PAD_TOKEN], np.int64)\n",
        "\n",
        "for i, word in enumerate(text):\n",
        "    line_ix = [token_to_idx[char[0]] for char in word]\n",
        "    text_idx[i, : len(line_ix)] = line_ix"
      ]
    },
    {
      "cell_type": "code",
      "execution_count": 17,
      "metadata": {},
      "outputs": [
        {
          "name": "stdout",
          "output_type": "stream",
          "text": [
            "[[ 322 1834   90 ...   48   48   48]\n",
            " [2617 1359  860 ...   48   48   48]\n",
            " [2649 1454  152 ...   48   48   48]\n",
            " ...\n",
            " [1454 1478 2282 ...   48   48   48]\n",
            " [2132 2579 1446 ...   48   48   48]\n",
            " [ 717  933 1478 ...   48   48   48]]\n"
          ]
        }
      ],
      "source": [
        "print(text_to_matrix(text))"
      ]
    },
    {
      "cell_type": "code",
      "execution_count": 18,
      "metadata": {},
      "outputs": [
        {
          "name": "stdout",
          "output_type": "stream",
          "text": [
            "[ 717  933 1478 1916  109 2628  925   48 2579 1446 1676 2420 1676 1526\n",
            " 2600  392   48  616 1812 1329 1428 1937  442  524  727  391   48 2346\n",
            " 1039 1446 1204 1454  406  834 2351   48  717 1834  748  253  567 1428\n",
            " 1424   48 1977 1812 1076 1277 2378 1526 1882  626   48  394 2243  717\n",
            "  180 1277 1842  894   48 2233 1531 1446  217  904 2351  115   48 2376\n",
            "  392  210 1038 1454  217 1003  458 1446   48 1977  322  311 1831 1424\n",
            "  253 2055  795   48  159  217  251  394 2455 2395   48 1838 1348  840\n",
            " 1204 1943  928 2141  650   48   35  776 1838 1381  394 2376 1446 1428\n",
            " 1943 2228   48 1478 1831 1424 2055 2635 2635 1003  339 1478   48   48\n",
            "   48   48   48   48   48   48   48   48   48   48   48   48   48   48\n",
            "   48   48   48   48   48   48]\n"
          ]
        }
      ],
      "source": [
        "print(text_to_matrix(text)[-1])"
      ]
    },
    {
      "cell_type": "markdown",
      "metadata": {
        "id": "Fk_pAi7g4h8z"
      },
      "source": [
        "*Comment: in this task we have only 38 different tokens, so let's use one-hot encoding.*"
      ]
    },
    {
      "cell_type": "markdown",
      "metadata": {
        "id": "oCgdG8-M4h8z"
      },
      "source": [
        "### Building the model"
      ]
    },
    {
      "cell_type": "markdown",
      "metadata": {
        "id": "XXp_A0o14h8z"
      },
      "source": [
        "Now we want to build and train recurrent neural net which would be able to something similar to Shakespeare's poetry.\n",
        "\n",
        "Let's use vanilla RNN, similar to the one created during the lesson."
      ]
    },
    {
      "cell_type": "code",
      "execution_count": 19,
      "metadata": {
        "id": "RX-xMdVV4h8z"
      },
      "outputs": [],
      "source": [
        "emb_size = 4"
      ]
    },
    {
      "cell_type": "code",
      "execution_count": 20,
      "metadata": {
        "id": "9j5zIjbQ2Rao"
      },
      "outputs": [],
      "source": [
        "Embedding = nn.Embedding(len(tokens), emb_size)"
      ]
    },
    {
      "cell_type": "code",
      "execution_count": 21,
      "metadata": {
        "id": "F4sxQ6bVLh0l"
      },
      "outputs": [],
      "source": [
        "matrix_text = text_to_matrix(text)\n",
        "batch = torch.from_numpy(matrix_text).type(torch.int64)\n",
        "emb = Embedding(batch)"
      ]
    },
    {
      "cell_type": "code",
      "execution_count": 22,
      "metadata": {},
      "outputs": [
        {
          "data": {
            "text/plain": [
              "torch.Size([154, 146, 4])"
            ]
          },
          "execution_count": 22,
          "metadata": {},
          "output_type": "execute_result"
        }
      ],
      "source": [
        "emb.shape"
      ]
    },
    {
      "cell_type": "code",
      "execution_count": 23,
      "metadata": {
        "colab": {
          "base_uri": "https://localhost:8080/"
        },
        "id": "E3u7SsRLcXWe",
        "outputId": "1c69d776-eb21-4f38-bcde-b71f18bb6965"
      },
      "outputs": [
        {
          "data": {
            "text/plain": [
              "torch.Size([154, 146])"
            ]
          },
          "execution_count": 23,
          "metadata": {},
          "output_type": "execute_result"
        }
      ],
      "source": [
        "batch.size()"
      ]
    },
    {
      "cell_type": "code",
      "execution_count": 24,
      "metadata": {},
      "outputs": [
        {
          "data": {
            "text/plain": [
              "device(type='cuda')"
            ]
          },
          "execution_count": 24,
          "metadata": {},
          "output_type": "execute_result"
        }
      ],
      "source": [
        "device = torch.device(\"cuda\" if torch.cuda.is_available() else \"cpu\")\n",
        "device"
      ]
    },
    {
      "cell_type": "code",
      "execution_count": 25,
      "metadata": {
        "id": "dbM6szZBMl7b"
      },
      "outputs": [],
      "source": [
        "class CharRNNCell(nn.Module):\n",
        "    \"\"\"Implement the scheme above as torch module\"\"\"\n",
        "\n",
        "    def __init__(self, num_tokens=len(tokens), embedding_size=emb_size, rnn_num_units=16):\n",
        "        super().__init__()\n",
        "        self.num_units = rnn_num_units\n",
        "\n",
        "        self.embedding = nn.Embedding(num_tokens, embedding_size)\n",
        "        self.rnn_update = nn.Linear(embedding_size + rnn_num_units, rnn_num_units)\n",
        "        self.rnn_to_logits = nn.Linear(rnn_num_units, num_tokens)\n",
        "\n",
        "    def forward(self, x, h_prev):\n",
        "        \"\"\"\n",
        "        This method computes h_next(x, h_prev) and log P(x_next | h_next)\n",
        "        We'll call it repeatedly to produce the whole sequence.\n",
        "\n",
        "        :param x: batch of character ids, containing vector of int64\n",
        "        :param h_prev: previous rnn hidden states, containing matrix [batch, rnn_num_units] of float32\n",
        "        \"\"\"\n",
        "        # get vector embedding of x\n",
        "        # batch, seq leng, emb dim\n",
        "        x_emb = self.embedding(x)\n",
        "\n",
        "        # compute next hidden state using self.rnn_update\n",
        "        # hint: use torch.cat(..., dim=...) for concatenation\n",
        "        x_and_h = torch.cat([x_emb, h_prev], dim=-1)\n",
        "        h_next = self.rnn_update(x_and_h)\n",
        "\n",
        "        h_next = torch.tanh(h_next)\n",
        "\n",
        "        # compute logits for next character probs\n",
        "        logits = self.rnn_to_logits(h_next)\n",
        "\n",
        "        return h_next, logits\n",
        "\n",
        "    def initial_state(self, batch_size):\n",
        "        \"\"\"return rnn state before it processes first input (aka h0)\"\"\"\n",
        "        # TODO init with normal distribution and make it trainable\n",
        "        return torch.zeros(batch_size, self.num_units, requires_grad=True)"
      ]
    },
    {
      "cell_type": "code",
      "execution_count": 26,
      "metadata": {
        "id": "C2qtFoIlY2hi"
      },
      "outputs": [],
      "source": [
        "char_rnn = CharRNNCell().to(device)\n",
        "criterion = nn.NLLLoss()"
      ]
    },
    {
      "cell_type": "code",
      "execution_count": 27,
      "metadata": {
        "id": "OGFl40QmY5ga"
      },
      "outputs": [],
      "source": [
        "def rnn_loop(char_rnn, batch_ix):\n",
        "    batch_ix = batch_ix.to(device)\n",
        "    batch_size, max_length = batch_ix.size()\n",
        "    hid_state = char_rnn.initial_state(batch_size).to(device)\n",
        "    logprobs = []\n",
        "\n",
        "    for x_t in batch_ix.transpose(0, 1):\n",
        "        hid_state, logits = char_rnn(x_t, hid_state)\n",
        "        logprobs.append(F.log_softmax(logits, -1))\n",
        "\n",
        "    return torch.stack(logprobs, dim=1)"
      ]
    },
    {
      "cell_type": "code",
      "execution_count": 28,
      "metadata": {
        "colab": {
          "base_uri": "https://localhost:8080/"
        },
        "id": "xVsB3G1rY9yn",
        "outputId": "8a7201bf-9c00-4bd8-d7d3-9bd289f7ceab"
      },
      "outputs": [
        {
          "name": "stdout",
          "output_type": "stream",
          "text": [
            "torch.Size([154, 146])\n"
          ]
        },
        {
          "data": {
            "text/plain": [
              "torch.Size([154, 146, 2661])"
            ]
          },
          "execution_count": 28,
          "metadata": {},
          "output_type": "execute_result"
        }
      ],
      "source": [
        "batch_ix = text_to_matrix(text)\n",
        "batch_ix = torch.tensor(batch_ix, dtype=torch.int64)\n",
        "print(batch_ix.shape)\n",
        "\n",
        "logp_seq = rnn_loop(char_rnn, batch_ix)\n",
        "logp_seq.shape"
      ]
    },
    {
      "cell_type": "code",
      "execution_count": 29,
      "metadata": {
        "id": "6svoH1CdvPHn"
      },
      "outputs": [],
      "source": [
        "predictions_logp = logp_seq[:, :-1].to(device)\n",
        "actual_next_tokens = batch[:, 1:].to(device)\n",
        "\n",
        "# .contiguous() method checks that tensor is stored in the memory correctly to\n",
        "# get its view of desired shape.\n",
        "\n",
        "loss = criterion(\n",
        "    predictions_logp.contiguous().view(-1, len(tokens)),\n",
        "    actual_next_tokens.contiguous().view(-1),\n",
        ")\n",
        "\n",
        "loss.backward()"
      ]
    },
    {
      "cell_type": "code",
      "execution_count": 30,
      "metadata": {},
      "outputs": [],
      "source": [
        "def calculate_accuracy(predictions, targets, device='cuda'): \n",
        "    predictions = predictions.to(device)\n",
        "    targets = targets.to(device)\n",
        "    \n",
        "    pred_inds = torch.argmax(predictions, dim=-1)\n",
        "    accuracy = (pred_inds == targets).sum().item() / targets.numel()\n",
        "    return accuracy\n"
      ]
    },
    {
      "cell_type": "code",
      "execution_count": 33,
      "metadata": {
        "id": "EcLssDoTvdJw"
      },
      "outputs": [
        {
          "name": "stdout",
          "output_type": "stream",
          "text": [
            "0\n",
            "Iteration 0/500\n",
            "Iteration 100/500\n",
            "Iteration 200/500\n",
            "Iteration 300/500\n",
            "Iteration 400/500\n",
            "1\n",
            "Iteration 0/500\n",
            "Iteration 100/500\n",
            "Iteration 200/500\n",
            "Iteration 300/500\n",
            "Iteration 400/500\n",
            "2\n",
            "Iteration 0/500\n",
            "Iteration 100/500\n",
            "Iteration 200/500\n",
            "Iteration 300/500\n",
            "Iteration 400/500\n",
            "3\n",
            "Iteration 0/500\n",
            "Iteration 100/500\n",
            "Iteration 200/500\n",
            "Iteration 300/500\n",
            "Iteration 400/500\n",
            "4\n",
            "Iteration 0/500\n",
            "Iteration 100/500\n",
            "Iteration 200/500\n",
            "Iteration 300/500\n",
            "Iteration 400/500\n",
            "5\n",
            "Iteration 0/500\n",
            "Iteration 100/500\n",
            "Iteration 200/500\n",
            "Iteration 300/500\n",
            "Iteration 400/500\n",
            "6\n",
            "Iteration 0/500\n",
            "Iteration 100/500\n",
            "Iteration 200/500\n",
            "Iteration 300/500\n",
            "Iteration 400/500\n",
            "7\n",
            "Iteration 0/500\n",
            "Iteration 100/500\n",
            "Iteration 200/500\n",
            "Iteration 300/500\n",
            "Iteration 400/500\n",
            "8\n",
            "Iteration 0/500\n",
            "Iteration 100/500\n",
            "Iteration 200/500\n",
            "Iteration 300/500\n",
            "Iteration 400/500\n",
            "9\n",
            "Iteration 0/500\n",
            "Iteration 100/500\n",
            "Iteration 200/500\n",
            "Iteration 300/500\n",
            "Iteration 400/500\n"
          ]
        }
      ],
      "source": [
        "char_rnn = CharRNNCell().to(device)\n",
        "criterion = nn.NLLLoss()\n",
        "opt = torch.optim.Adam(char_rnn.parameters())\n",
        "batch_size = 2\n",
        "num_iterations = 500\n",
        "num_epochs = 10\n",
        "\n",
        "history_loss = []\n",
        "history_acc = []\n",
        "\n",
        "for epoch in range(num_epochs):\n",
        "    print(epoch)\n",
        "    epoch_loss = 0\n",
        "    epoch_accuracy = 0\n",
        "    for i in range(num_iterations):\n",
        "        opt.zero_grad()\n",
        "\n",
        "        batch_ix = text_to_matrix(sample(text, batch_size))\n",
        "        batch_ix = torch.tensor(batch_ix, dtype=torch.int64).to(device)\n",
        "\n",
        "        logp_seq = rnn_loop(char_rnn, batch_ix)\n",
        "\n",
        "        predictions_logp = logp_seq[:, :-1].to(device)\n",
        "        actual_next_tokens = batch_ix[:, 1:].to(device)\n",
        "\n",
        "        loss = criterion(\n",
        "            predictions_logp.contiguous().view(-1, len(tokens)),\n",
        "            actual_next_tokens.contiguous().view(-1)\n",
        "        )\n",
        "\n",
        "        loss.backward()\n",
        "        opt.step()\n",
        "        epoch_loss += loss.item()\n",
        "\n",
        "        accuracy = calculate_accuracy(predictions_logp, actual_next_tokens, device=device)\n",
        "        epoch_accuracy += accuracy\n",
        "\n",
        "        if i % 100 == 0:\n",
        "            print(f\"Iteration {i}/{num_iterations}\")\n",
        "\n",
        "    avg_epoch_loss = epoch_loss / num_iterations\n",
        "    avg_epoch_accuracy = epoch_accuracy / num_iterations\n",
        "    history_loss.append(avg_epoch_loss)\n",
        "    history_acc.append(avg_epoch_accuracy)\n"
      ]
    },
    {
      "cell_type": "markdown",
      "metadata": {
        "id": "7-QC4HwU4h8z"
      },
      "source": [
        "Plot the loss function (axis X: number of epochs, axis Y: loss function)."
      ]
    },
    {
      "cell_type": "code",
      "execution_count": 34,
      "metadata": {
        "colab": {
          "base_uri": "https://localhost:8080/",
          "height": 487
        },
        "id": "FT9ZnFNKB28t",
        "outputId": "27512287-c003-4c65-909a-9b269565ec11"
      },
      "outputs": [
        {
          "data": {
            "image/png": "[encoded data removed]",
            "text/plain": [
              "<Figure size 1200x400 with 2 Axes>"
            ]
          },
          "metadata": {},
          "output_type": "display_data"
        }
      ],
      "source": [
        "fig, axes = plt.subplots(1, 2, figsize=(12, 4))\n",
        "axes[0].plot(history_loss, marker='o', label=\"Loss\")\n",
        "axes[0].set_xlabel(\"Epochs\")\n",
        "axes[0].set_ylabel(\"Loss\")\n",
        "axes[0].grid(True)\n",
        "axes[0].legend()\n",
        "\n",
        "axes[1].plot(history_acc, marker='o', label=\"Accuracy\")\n",
        "axes[1].set_xlabel(\"Epochs\")\n",
        "axes[1].set_ylabel(\"Accuracy\")\n",
        "axes[1].grid(True)\n",
        "axes[1].legend()\n",
        "\n",
        "plt.show()"
      ]
    },
    {
      "cell_type": "code",
      "execution_count": 136,
      "metadata": {
        "id": "qdob2Th4JUEW"
      },
      "outputs": [],
      "source": [
        "def generate_sample(char_rnn, seed_phrase, max_length=50, temperature=0.2):\n",
        "    \"\"\"\n",
        "    The function generates text given a phrase of length at least SEQ_LENGTH.\n",
        "    :param seed_phrase: prefix characters. The RNN is asked to continue the phrase\n",
        "    :param max_length: maximum output length, including seed_phrase\n",
        "    :param temperature: coefficient for sampling.  higher temperature produces more chaotic outputs,\n",
        "                        smaller temperature converges to the single most likely output\n",
        "    \"\"\"\n",
        "    x_sequence = [token_to_idx[token] for token in seed_phrase]\n",
        "    x_sequence = torch.tensor([x_sequence], dtype=torch.int64, device=device)\n",
        "    hid_state = char_rnn.initial_state(batch_size=1).to(device) \n",
        "\n",
        "    # feed the seed phrase, if any\n",
        "    for i in range(len(seed_phrase) - 1):\n",
        "        hid_state, _ = char_rnn(x_sequence[:, i], hid_state)\n",
        "\n",
        "    # start generating\n",
        "    for _ in range(max_length - len(seed_phrase)):\n",
        "        hid_state, logits = char_rnn(x_sequence[:, -1], hid_state)\n",
        "        p_next = F.softmax(logits / temperature, dim=-1).data.cpu().numpy()[0]\n",
        "\n",
        "        # sample next token and push it back into x_sequence\n",
        "        next_ix = np.random.choice(len(tokens), p=p_next)\n",
        "        next_ix = torch.tensor([[next_ix]], dtype=torch.int64, device=device)\n",
        "        x_sequence = torch.cat([x_sequence, next_ix], dim=1)\n",
        "\n",
        "    return ' '.join([idx_to_token[ix] for ix in x_sequence.data.cpu().numpy()[0]])"
      ]
    },
    {
      "cell_type": "code",
      "execution_count": 138,
      "metadata": {},
      "outputs": [
        {
          "name": "stdout",
          "output_type": "stream",
          "text": [
            "from therein loving \n",
            " and constant angel not be that have perfume \n",
            " thus I heart it alone before be \n",
            " nor the reason I be a have thou day \n",
            " for not in from thee \n",
            " nor time the feature \n",
            " when I in shadow other 's invent a\n"
          ]
        }
      ],
      "source": [
        "print(generate_sample(char_rnn, seed_phrase=[\"from\"], temperature=0.8))"
      ]
    },
    {
      "cell_type": "code",
      "execution_count": 149,
      "metadata": {},
      "outputs": [],
      "source": [
        "def generate_multiple_samples(char_rnn, seed_phrase, num_lines=2, max_length=50, temperature=0.2):\n",
        "\n",
        "    results = []\n",
        "    current_seed = seed_phrase\n",
        "    \n",
        "    for _ in range(num_lines):\n",
        "        x_sequence = [token_to_idx[token] for token in current_seed]\n",
        "        x_sequence = torch.tensor([x_sequence], dtype=torch.int64, device=device)\n",
        "        hid_state = char_rnn.initial_state(batch_size=1).to(device)\n",
        "        \n",
        "        for i in range(len(current_seed) - 1):\n",
        "            hid_state, _ = char_rnn(x_sequence[:, i], hid_state)\n",
        "        \n",
        "        for _ in range(max_length - len(current_seed)):\n",
        "            hid_state, logits = char_rnn(x_sequence[:, -1], hid_state)\n",
        "            p_next = F.softmax(logits / temperature, dim=-1).data.cpu().numpy()[0]\n",
        "            next_ix = np.random.choice(len(tokens), p=p_next)\n",
        "            next_ix = torch.tensor([[next_ix]], dtype=torch.int64, device=device)\n",
        "            x_sequence = torch.cat([x_sequence, next_ix], dim=1)\n",
        "        \n",
        "        vec_line = [idx_to_token[ix] for ix in x_sequence.data.cpu().numpy()[0]]\n",
        "        last_word = next(word for word in reversed(vec_line) if word)\n",
        "        current_seed = [last_word]\n",
        "        vec_line.remove(last_word)\n",
        "        generated_line = ' '.join(vec_line)\n",
        "        results.append(generated_line)\n",
        "\n",
        "    return '\\n'.join(results)\n"
      ]
    },
    {
      "cell_type": "code",
      "execution_count": 150,
      "metadata": {
        "colab": {
          "base_uri": "https://localhost:8080/"
        },
        "id": "fin4SC5HKA8w",
        "outputId": "fff19e8e-2358-4907-dcf0-ded467def86b"
      },
      "outputs": [
        {
          "name": "stdout",
          "output_type": "stream",
          "text": [
            "from dead be devis'd be a decrepit 's here \n",
            " be I 's soul that I thou summer \n",
            " sland're to Time in invite \n",
            " as I fast o reason that say be by do \n",
            " when in thou praise \n",
            " the forward guilt shall man to from my\n",
            "time jaw \n",
            " \n",
            " \n",
            " \n",
            " \n",
            " can every impediment \n",
            " gainst worthy salve till approve I have description new and I tyrant \n",
            " that this that blessed on lie \n",
            " then world be his my prognosticate then despite my love \n",
            " and to my body near of the\n"
          ]
        }
      ],
      "source": [
        "print(generate_multiple_samples(char_rnn, seed_phrase=[\"from\"], temperature=0.8))"
      ]
    },
    {
      "cell_type": "markdown",
      "metadata": {
        "id": "0NFfgEGP4h80"
      },
      "source": [
        "### More poetic model\n",
        "\n",
        "Let's use LSTM instead of vanilla RNN and compare the results."
      ]
    },
    {
      "cell_type": "code",
      "execution_count": 161,
      "metadata": {},
      "outputs": [],
      "source": [
        "class CharRNNLoop(nn.Module):\n",
        "    def __init__(self, num_tokens=len(tokens), emb_size=8, rnn_num_units=64):\n",
        "        super(self.__class__, self).__init__()\n",
        "        self.emb = nn.Embedding(num_tokens, emb_size)\n",
        "        self.rnn = nn.LSTM(emb_size, rnn_num_units, batch_first=True)\n",
        "        self.hid_to_logits = nn.Linear(rnn_num_units, num_tokens)\n",
        "        self.num_units = rnn_num_units\n",
        "\n",
        "    def forward(self, x):\n",
        "        h_seq, _ = self.rnn(self.emb(x))\n",
        "        next_logits = self.hid_to_logits(h_seq)\n",
        "        next_logp = F.log_softmax(next_logits, dim=-1)\n",
        "        return next_logp\n",
        "\n",
        "    def forward_char(self, x, h=None):\n",
        "        if h is None:\n",
        "            out, h = self.rnn(self.emb(x))\n",
        "        else:\n",
        "            out, h = self.rnn(self.emb(x), h)\n",
        "        out = self.hid_to_logits(out)\n",
        "        return out, h\n",
        "\n",
        "    def initial_state(self, batch_size):\n",
        "        \"\"\"return rnn state before it processes first input (aka h0)\"\"\"\n",
        "        return torch.zeros(batch_size, self.num_units, requires_grad=True)"
      ]
    },
    {
      "cell_type": "code",
      "execution_count": 162,
      "metadata": {},
      "outputs": [],
      "source": [
        "model = CharRNNLoop().to(device)\n",
        "opt = torch.optim.Adam(model.parameters())\n",
        "history = []\n",
        "\n",
        "# the model applies over the whole sequence\n",
        "batch_ix = text_to_matrix(sample(text, 32), max_len=MAX_LENGTH)\n",
        "batch_ix = torch.LongTensor(batch_ix).to(device)"
      ]
    },
    {
      "cell_type": "code",
      "execution_count": 163,
      "metadata": {},
      "outputs": [],
      "source": [
        "logp_seq = model(batch_ix)\n",
        "\n",
        "loss = criterion(\n",
        "    logp_seq[:, :-1].contiguous().view(-1, len(tokens)), batch_ix[:, 1:].contiguous().view(-1)\n",
        ")\n",
        "\n",
        "loss.backward()"
      ]
    },
    {
      "cell_type": "code",
      "execution_count": 164,
      "metadata": {},
      "outputs": [
        {
          "name": "stdout",
          "output_type": "stream",
          "text": [
            "0\n",
            "1\n",
            "2\n",
            "3\n",
            "4\n",
            "5\n",
            "6\n",
            "7\n",
            "8\n",
            "9\n"
          ]
        }
      ],
      "source": [
        "model = CharRNNLoop().to(device)\n",
        "criterion = nn.NLLLoss()\n",
        "opt = torch.optim.Adam(model.parameters())\n",
        "batch_size = 2\n",
        "num_iterations = 2000\n",
        "num_epochs = 10\n",
        "\n",
        "history_loss = []\n",
        "history_acc = []\n",
        "\n",
        "for epoch in range(num_epochs):\n",
        "    print(epoch)\n",
        "    epoch_loss = 0\n",
        "    epoch_accuracy = 0\n",
        "    for i in range(num_iterations):\n",
        "        opt.zero_grad()\n",
        "\n",
        "        batch_ix = text_to_matrix(sample(text, batch_size))\n",
        "        batch_ix = torch.tensor(batch_ix, dtype=torch.int64).to(device)\n",
        "\n",
        "        logp_seq = model(batch_ix)\n",
        "\n",
        "        predictions_logp = logp_seq[:, :-1].to(device)\n",
        "        actual_next_tokens = batch_ix[:, 1:].to(device)\n",
        "\n",
        "        loss = criterion(\n",
        "            predictions_logp.contiguous().view(-1, len(tokens)), actual_next_tokens.contiguous().view(-1)\n",
        "        )\n",
        "\n",
        "        # train with backprop\n",
        "        loss.backward()\n",
        "        opt.step()\n",
        "        epoch_loss += loss.item()\n",
        "        accuracy = calculate_accuracy(predictions_logp, actual_next_tokens, device=device)\n",
        "        epoch_accuracy += accuracy\n",
        "\n",
        "    avg_epoch_loss = epoch_loss / num_iterations\n",
        "    avg_epoch_accuracy = epoch_accuracy / num_iterations\n",
        "    history_loss.append(avg_epoch_loss)\n",
        "    history_acc.append(avg_epoch_accuracy)"
      ]
    },
    {
      "cell_type": "markdown",
      "metadata": {
        "id": "DBtPX83t4h80"
      },
      "source": [
        "Plot the loss function of the number of epochs. Does the final loss become better?"
      ]
    },
    {
      "cell_type": "code",
      "execution_count": 165,
      "metadata": {},
      "outputs": [
        {
          "data": {
            "image/png": "[encoded data removed]",
            "text/plain": [
              "<Figure size 1200x400 with 2 Axes>"
            ]
          },
          "metadata": {},
          "output_type": "display_data"
        }
      ],
      "source": [
        "fig, axes = plt.subplots(1, 2, figsize=(12, 4))\n",
        "axes[0].plot(history_loss, marker='o', label=\"Loss\")\n",
        "axes[0].set_xlabel(\"Epochs\")\n",
        "axes[0].set_ylabel(\"Loss\")\n",
        "axes[0].grid(True)\n",
        "axes[0].legend()\n",
        "\n",
        "axes[1].plot(history_acc, marker='o', label=\"Accuracy\")\n",
        "axes[1].set_xlabel(\"Epochs\")\n",
        "axes[1].set_ylabel(\"Accuracy\")\n",
        "axes[1].grid(True)\n",
        "axes[1].legend()\n",
        "\n",
        "plt.show()"
      ]
    },
    {
      "cell_type": "markdown",
      "metadata": {
        "id": "kPKtBEQ-4h80"
      },
      "source": [
        "Generate text using the trained net with different `temperature` parameter: `(0.1, 0.2, 0.5, 1.0, 2.0)`.\n",
        "\n",
        "Evaluate the results visually, try to interpret them."
      ]
    },
    {
      "cell_type": "code",
      "execution_count": 174,
      "metadata": {},
      "outputs": [],
      "source": [
        "def generate_sample_lstm(\n",
        "    char_rnn, seed_phrase, max_length=50, temperature=1.0, device='cuda'\n",
        "):\n",
        "    x_sequence = [token_to_idx[token] for token in seed_phrase]\n",
        "    x_sequence = torch.tensor([x_sequence], dtype=torch.int64).to(device)\n",
        "\n",
        "    # feed the seed phrase, if any\n",
        "    logits, h = char_rnn.forward_char(x_sequence)\n",
        "    logits = logits[:, -1]\n",
        "\n",
        "    # start generating\n",
        "    for _ in range(max_length - x_sequence.shape[1] + 1):\n",
        "        p_next = F.softmax(logits / temperature, dim=-1).cpu().data.numpy().squeeze()\n",
        "\n",
        "        # sample next token and push it back into x_sequence\n",
        "        next_ix = np.random.choice(len(tokens), p=p_next)\n",
        "        next_ix = torch.tensor([[next_ix]], dtype=torch.int64).to(device)\n",
        "        x_sequence = torch.cat([x_sequence, next_ix], dim=1)\n",
        "        logits, h = char_rnn.forward_char(next_ix, h)\n",
        "\n",
        "    return ' '.join([idx_to_token[ix] for ix in x_sequence.data.cpu().numpy()[0]])"
      ]
    },
    {
      "cell_type": "code",
      "execution_count": 179,
      "metadata": {},
      "outputs": [
        {
          "name": "stdout",
          "output_type": "stream",
          "text": [
            "from chase thee when thou day \n",
            " how thou wilt as mourn doth I be not acquaint \n",
            " a self and beauty and spur can not love be so bold \n",
            " which be not steal thy beauty will new \n",
            " or sweet seem will no bare I have remov'd by short\n"
          ]
        }
      ],
      "source": [
        "print(generate_sample_lstm(model, seed_phrase=[\"from\"], temperature=0.8))"
      ]
    },
    {
      "cell_type": "code",
      "execution_count": 185,
      "metadata": {
        "id": "6i4pKJtr4h80"
      },
      "outputs": [
        {
          "name": "stdout",
          "output_type": "stream",
          "text": [
            "0.1\n",
            "from fairest creature nor ne'er summer 's brain and summer asleep rage rage rage \n",
            " but try beast wire state with figure \n",
            " when that tomb that I abide \n",
            " the world and fill'd by day oppress'd \n",
            " and in my madness might be so fair be most \n",
            " and thou\n",
            "0.2\n",
            "from fairest creature I never rage 's hand hasten \n",
            " Whereon the beauty blunt in dream 's scope \n",
            " but be profan'd thee and day and unfather'd \n",
            " and maiden particular be term'd my heart do \n",
            " and all my honest faith be so bold \n",
            " to linger on a pure\n",
            "0.5\n",
            "from fairest creature but my mind want I come forsake again \n",
            " Wilt thou wilt thou lov'st to this purpose mayst be \n",
            " I have say your beauty be mute with thine \n",
            " and that beauty 's bastard be lov'd the prime knife \n",
            " and the firm soil own pay to\n",
            "1.0\n",
            "from fairest creature as one I view \n",
            " ah like the marigold of fault beauty dead \n",
            " Desire thought but fear of worm of thine I \n",
            " and both black on second a seat so bright \n",
            " or if they themselves not and give it bar \n",
            " now as it base\n",
            "2.0\n",
            "from his appetite pass too soul our day myself among body still \n",
            " absence his reason shall day thou save in right why live \n",
            " thy love whose bare a second yet be this would from glass \n",
            " that look thy barren black forth his store breast it a lease \n",
            "\n"
          ]
        }
      ],
      "source": [
        "temps = [0.1, 0.2, 0.5, 1.0, 2.0]\n",
        "\n",
        "for temp in temps:\n",
        "    print(temp)\n",
        "    print(generate_sample_lstm(model, seed_phrase=[\"from\"], temperature=temp))"
      ]
    },
    {
      "cell_type": "markdown",
      "metadata": {},
      "source": [
        "При использовании LSTM среднее значение loss на эпохе ниже чем при vanila RNN, и среднее значение accuracy на эпохе лучше у LSTM\n",
        "\n",
        "Значение temperature влияет на \"консервативность\" модели."
      ]
    },
    {
      "cell_type": "markdown",
      "metadata": {
        "id": "9ntUHdfF4h80"
      },
      "source": [
        "### Saving and loading models"
      ]
    },
    {
      "cell_type": "markdown",
      "metadata": {
        "id": "37SZIh1d4h80"
      },
      "source": [
        "Save the model to the disk, then load it and generate text.\n",
        "Follow guides from [this tutorial](https://pytorch.org/tutorials/beginner/saving_loading_models.html).\n",
        "\n",
        "You need to use `Save/Load state_dict (Recommended)` section aka save state dict."
      ]
    },
    {
      "cell_type": "code",
      "execution_count": 186,
      "metadata": {
        "id": "EWYtvYTJ4h80"
      },
      "outputs": [
        {
          "name": "stdout",
          "output_type": "stream",
          "text": [
            "emb.weight \t torch.Size([2661, 8])\n",
            "rnn.weight_ih_l0 \t torch.Size([256, 8])\n",
            "rnn.weight_hh_l0 \t torch.Size([256, 64])\n",
            "rnn.bias_ih_l0 \t torch.Size([256])\n",
            "rnn.bias_hh_l0 \t torch.Size([256])\n",
            "hid_to_logits.weight \t torch.Size([2661, 64])\n",
            "hid_to_logits.bias \t torch.Size([2661])\n"
          ]
        }
      ],
      "source": [
        "for param_tensor in model.state_dict():\n",
        "    print(param_tensor, \"\\t\", model.state_dict()[param_tensor].size())"
      ]
    },
    {
      "cell_type": "code",
      "execution_count": 187,
      "metadata": {},
      "outputs": [
        {
          "name": "stdout",
          "output_type": "stream",
          "text": [
            "Optimizer's state_dict:\n",
            "state \t {0: {'step': tensor(20000.), 'exp_avg': tensor([[ 2.1070e-08,  1.7803e-08, -5.6203e-07,  ...,  4.6206e-08,\n",
            "         -2.4449e-07, -4.3554e-07],\n",
            "        [-1.9929e-07,  7.0496e-07,  4.5384e-08,  ...,  3.3819e-07,\n",
            "          1.6341e-07,  2.0006e-07],\n",
            "        [-2.1584e-09,  4.3632e-10,  2.6611e-09,  ...,  4.2781e-11,\n",
            "         -1.2763e-09,  1.6992e-11],\n",
            "        ...,\n",
            "        [ 4.5500e-05,  4.3310e-05, -2.0552e-05,  ..., -1.0041e-05,\n",
            "          1.1345e-05,  4.1698e-05],\n",
            "        [-2.6775e-05,  1.8658e-05, -3.6378e-05,  ..., -1.5957e-05,\n",
            "          1.5794e-05, -1.0781e-05],\n",
            "        [-9.9949e-08,  2.0423e-07,  2.2920e-07,  ..., -7.6140e-08,\n",
            "         -7.9589e-08, -4.1785e-08]], device='cuda:0'), 'exp_avg_sq': tensor([[8.1936e-09, 1.3793e-09, 8.6620e-08,  ..., 4.6680e-08, 7.2488e-09,\n",
            "         5.6700e-08],\n",
            "        [3.6935e-07, 1.1222e-06, 5.3530e-07,  ..., 8.9201e-07, 3.5409e-07,\n",
            "         1.7174e-07],\n",
            "        [2.7190e-07, 9.0588e-09, 1.4640e-07,  ..., 1.6060e-09, 1.2670e-07,\n",
            "         1.5640e-08],\n",
            "        ...,\n",
            "        [3.4644e-07, 1.7880e-07, 2.2428e-07,  ..., 1.4461e-07, 2.7599e-07,\n",
            "         2.1189e-07],\n",
            "        [2.9731e-07, 2.4740e-07, 2.2477e-07,  ..., 1.2736e-07, 1.4054e-07,\n",
            "         1.9833e-07],\n",
            "        [3.1110e-08, 1.9503e-08, 3.2971e-09,  ..., 5.8206e-09, 6.1841e-09,\n",
            "         7.8426e-09]], device='cuda:0')}, 1: {'step': tensor(20000.), 'exp_avg': tensor([[ 2.2087e-04,  7.8494e-06,  2.3866e-04,  ...,  7.6292e-06,\n",
            "         -6.2142e-05, -1.2039e-04],\n",
            "        [-4.7747e-06, -2.5106e-05, -6.5468e-06,  ..., -9.2503e-07,\n",
            "          8.6439e-06,  1.8165e-05],\n",
            "        [-8.2305e-05, -3.8526e-04, -2.0558e-04,  ...,  1.6992e-04,\n",
            "          9.0298e-05, -2.0473e-04],\n",
            "        ...,\n",
            "        [ 2.0768e-04,  8.9689e-04,  4.4108e-04,  ...,  9.4509e-04,\n",
            "          1.3788e-03,  9.7054e-04],\n",
            "        [-1.1869e-03,  7.3059e-05, -5.2228e-04,  ...,  4.8146e-04,\n",
            "         -2.1407e-03, -8.0361e-04],\n",
            "        [-9.6774e-04, -6.3754e-05,  4.2314e-04,  ...,  2.3362e-03,\n",
            "         -3.9534e-04,  6.4287e-04]], device='cuda:0'), 'exp_avg_sq': tensor([[2.7796e-06, 1.0599e-06, 2.0339e-06,  ..., 2.3706e-06, 8.9676e-07,\n",
            "         7.9943e-07],\n",
            "        [1.7297e-08, 1.5362e-08, 4.8968e-08,  ..., 8.1353e-08, 3.7370e-07,\n",
            "         1.4615e-08],\n",
            "        [3.1906e-07, 5.5998e-07, 2.8860e-07,  ..., 3.4213e-07, 1.8325e-07,\n",
            "         2.5185e-07],\n",
            "        ...,\n",
            "        [1.6460e-05, 1.9278e-05, 1.5523e-05,  ..., 2.2572e-05, 2.3335e-05,\n",
            "         2.2569e-05],\n",
            "        [4.5115e-05, 4.1454e-05, 5.3670e-05,  ..., 4.2312e-05, 4.9216e-05,\n",
            "         3.2577e-05],\n",
            "        [4.3881e-05, 3.1347e-05, 3.0377e-05,  ..., 4.0225e-05, 3.5753e-05,\n",
            "         2.7868e-05]], device='cuda:0')}, 2: {'step': tensor(20000.), 'exp_avg': tensor([[-3.9204e-06,  1.7209e-06, -2.1246e-06,  ...,  2.3597e-06,\n",
            "         -1.8708e-06, -2.4234e-06],\n",
            "        [ 2.2733e-06, -1.7914e-06, -2.2421e-06,  ...,  4.6744e-06,\n",
            "         -4.4920e-07,  1.3363e-06],\n",
            "        [ 3.0039e-05,  4.0366e-05, -9.5491e-06,  ...,  1.1446e-04,\n",
            "          2.4360e-05, -1.5917e-04],\n",
            "        ...,\n",
            "        [ 3.3493e-04,  1.4814e-04, -9.1849e-04,  ...,  1.1987e-05,\n",
            "         -1.7551e-04, -4.8254e-04],\n",
            "        [-4.1698e-04,  5.7364e-04,  1.9139e-04,  ...,  1.0880e-03,\n",
            "         -3.5897e-04, -5.3408e-04],\n",
            "        [ 1.2729e-03,  5.4987e-04, -1.4539e-03,  ...,  6.3260e-04,\n",
            "          8.2455e-04, -9.6022e-04]], device='cuda:0'), 'exp_avg_sq': tensor([[4.7429e-09, 8.3082e-09, 1.0707e-10,  ..., 5.4272e-09, 8.0125e-09,\n",
            "         4.0413e-09],\n",
            "        [1.5866e-09, 5.3162e-10, 2.1058e-10,  ..., 1.1562e-08, 9.6122e-09,\n",
            "         9.3609e-11],\n",
            "        [1.8118e-08, 5.0851e-08, 2.4238e-08,  ..., 1.2712e-07, 2.9857e-08,\n",
            "         1.5917e-07],\n",
            "        ...,\n",
            "        [8.3431e-06, 3.1133e-06, 6.1845e-06,  ..., 5.2908e-06, 2.8365e-06,\n",
            "         6.7678e-06],\n",
            "        [1.3579e-05, 1.0838e-05, 1.1605e-05,  ..., 1.2854e-05, 1.0010e-05,\n",
            "         1.6498e-05],\n",
            "        [1.4945e-05, 6.1730e-06, 1.3707e-05,  ..., 8.2185e-06, 9.4475e-06,\n",
            "         1.3302e-05]], device='cuda:0')}, 3: {'step': tensor(20000.), 'exp_avg': tensor([-1.3828e-04, -1.4573e-05,  2.1917e-04,  4.9596e-04,  1.5402e-05,\n",
            "        -3.0353e-05, -9.8491e-05,  3.0916e-05, -4.1013e-05, -5.7939e-06,\n",
            "         4.6273e-04, -3.0315e-05, -5.3841e-05,  2.0498e-06, -2.4467e-05,\n",
            "         2.5884e-04,  3.5421e-06, -1.8152e-06, -2.5928e-05,  6.9259e-05,\n",
            "         6.7989e-06, -3.8696e-05,  2.3935e-06, -3.9908e-05, -7.8153e-08,\n",
            "         8.3969e-06,  2.4123e-04, -2.5331e-04,  2.9397e-05,  3.2043e-07,\n",
            "         2.6817e-05, -5.6553e-05, -6.7736e-04, -4.7265e-06, -3.4181e-05,\n",
            "        -1.9095e-05, -1.5058e-04, -6.4346e-06, -6.6399e-04,  2.9671e-05,\n",
            "         2.7612e-05,  4.8165e-06, -2.0904e-04,  1.1717e-04,  3.5581e-05,\n",
            "         8.2828e-06,  5.4256e-05,  4.9509e-05,  2.0423e-06,  1.5424e-04,\n",
            "         2.4033e-06, -2.3787e-06, -4.3703e-05,  1.0746e-04, -3.7791e-05,\n",
            "         4.8348e-05, -7.3473e-05, -3.1783e-05,  1.1450e-04, -1.8587e-05,\n",
            "        -6.3057e-05,  3.5086e-04, -2.9754e-05, -1.5970e-04,  4.1030e-05,\n",
            "         1.8920e-04,  2.8177e-04,  1.7271e-03, -1.1256e-05,  5.2401e-04,\n",
            "        -2.1250e-04, -1.3963e-05, -1.7347e-04,  4.1518e-06, -1.1974e-04,\n",
            "        -3.8921e-06, -1.1171e-04,  1.8459e-04,  4.2896e-04, -2.6423e-03,\n",
            "         3.1015e-05,  1.9931e-04,  8.5503e-06, -3.5370e-04, -7.6663e-06,\n",
            "         4.2531e-04, -7.3034e-05,  2.0611e-04,  4.9844e-05, -4.9917e-06,\n",
            "        -2.7771e-04, -9.4318e-04,  1.4536e-05, -1.3637e-06,  2.2817e-04,\n",
            "        -4.5815e-05, -1.4774e-03,  3.8444e-04, -4.6958e-04, -1.2931e-06,\n",
            "        -5.6429e-04,  1.0133e-04, -6.1109e-03, -8.3825e-05,  2.1669e-04,\n",
            "         1.2327e-04,  1.6715e-03, -2.5263e-04, -2.3597e-04,  2.7831e-04,\n",
            "        -8.2906e-06,  1.6078e-03,  1.8958e-04,  8.8659e-04,  2.5012e-05,\n",
            "         2.0532e-04,  1.8733e-03, -8.6418e-04, -2.8192e-04,  1.8779e-04,\n",
            "        -1.0797e-05,  3.2850e-05,  3.6667e-05,  4.8670e-05,  8.9870e-04,\n",
            "         6.9525e-05, -2.4009e-05, -6.8380e-04, -1.2267e-03, -6.0219e-04,\n",
            "         3.6554e-05,  1.0014e-03,  6.2700e-05, -6.4497e-04,  3.0751e-04,\n",
            "        -2.9410e-04, -5.8922e-05,  7.1124e-05, -9.4556e-04,  3.2584e-05,\n",
            "        -4.6460e-04, -3.5278e-04,  2.3632e-04,  7.2311e-03,  1.9713e-04,\n",
            "         2.4124e-04,  2.8897e-04, -6.1843e-04, -3.8871e-05,  1.0138e-03,\n",
            "        -1.3858e-03,  1.3589e-04, -1.4601e-04, -2.7033e-05, -1.8802e-03,\n",
            "        -3.7148e-04,  2.1662e-05,  1.1479e-05,  7.0103e-05, -5.8977e-05,\n",
            "         1.6648e-03,  2.0777e-04, -3.0432e-04, -1.5290e-04,  3.5742e-05,\n",
            "        -3.6115e-04,  5.7410e-03, -6.5322e-05,  8.6883e-05,  5.1624e-05,\n",
            "         1.7653e-03,  5.5448e-04, -1.1631e-03,  6.4228e-04, -2.0517e-05,\n",
            "        -7.9486e-05, -3.1137e-05,  4.4182e-04,  1.7297e-04,  7.1096e-05,\n",
            "         9.2055e-04, -3.2702e-03,  9.2766e-04,  1.0117e-05,  8.1318e-05,\n",
            "         3.3665e-05,  6.6509e-05, -2.7960e-04,  5.5703e-04,  2.0629e-03,\n",
            "        -1.7654e-04,  1.0891e-04,  1.1065e-03,  3.5480e-04, -3.5909e-04,\n",
            "        -1.5087e-03, -3.1231e-04, -4.6913e-05, -8.9774e-04, -1.9501e-04,\n",
            "        -4.4120e-04, -4.9395e-04, -2.4460e-05, -1.1431e-03,  3.1608e-04,\n",
            "         3.6282e-04, -1.1965e-03, -4.4531e-05,  1.1785e-04,  1.2286e-03,\n",
            "        -7.2455e-05,  1.0476e-03, -1.1864e-03, -1.6776e-04, -2.4614e-04,\n",
            "        -4.1602e-04, -1.4841e-03,  1.1715e-03, -1.4299e-04, -7.4970e-04,\n",
            "         5.6413e-04, -2.8493e-04, -3.2236e-04,  6.2395e-04,  3.6512e-04,\n",
            "        -1.0128e-03,  6.8609e-04,  2.0947e-04, -4.4130e-04, -1.7153e-03,\n",
            "         2.2038e-04,  3.0859e-04,  1.7309e-03,  4.9521e-04,  5.0765e-05,\n",
            "         1.4542e-05,  4.9460e-04, -1.7993e-05,  9.7943e-04, -8.6551e-04,\n",
            "         6.2776e-04,  5.4576e-04, -9.7303e-04,  2.1904e-04, -2.6057e-05,\n",
            "        -8.3806e-05, -6.6738e-04,  6.7590e-04,  1.1205e-03, -9.4517e-04,\n",
            "         7.6027e-04,  1.1731e-03, -8.7000e-04,  4.1517e-04,  3.3788e-04,\n",
            "         1.5596e-03], device='cuda:0'), 'exp_avg_sq': tensor([7.0545e-07, 2.8551e-08, 2.8590e-07, 3.0039e-06, 2.3750e-08, 4.2695e-08,\n",
            "        1.5752e-07, 2.1240e-07, 9.7678e-08, 2.1296e-09, 6.2101e-07, 9.6302e-08,\n",
            "        8.0584e-08, 6.5594e-10, 1.3878e-08, 1.5024e-05, 3.7330e-08, 8.0157e-09,\n",
            "        2.2008e-07, 1.3566e-06, 9.7879e-09, 8.1830e-08, 4.3624e-08, 6.6638e-08,\n",
            "        2.7766e-08, 6.8486e-09, 4.5021e-05, 1.1298e-06, 5.7343e-09, 1.7678e-11,\n",
            "        7.4599e-08, 3.7123e-08, 4.4282e-06, 8.5750e-08, 2.3127e-08, 4.5426e-07,\n",
            "        1.5494e-07, 3.6105e-07, 3.2298e-05, 4.2267e-08, 2.9353e-08, 4.5035e-09,\n",
            "        4.1055e-07, 3.8224e-07, 7.6304e-07, 4.1589e-08, 1.3833e-07, 1.1757e-06,\n",
            "        1.8244e-08, 1.0375e-06, 5.4770e-08, 3.3213e-09, 9.0123e-08, 9.2798e-06,\n",
            "        9.1325e-07, 1.4031e-08, 4.6287e-07, 3.4536e-08, 9.2318e-08, 2.8186e-07,\n",
            "        8.0481e-08, 1.0660e-05, 2.7408e-08, 5.5004e-06, 8.7187e-06, 1.1157e-05,\n",
            "        6.8437e-06, 3.4681e-05, 9.2128e-08, 2.8330e-06, 1.1393e-05, 1.4485e-07,\n",
            "        9.2860e-06, 6.3110e-09, 1.9655e-06, 1.3095e-08, 1.7244e-06, 8.2282e-06,\n",
            "        7.5748e-06, 3.4806e-04, 5.9419e-09, 1.3598e-06, 1.0542e-07, 5.8530e-06,\n",
            "        3.6371e-08, 4.9316e-06, 1.6402e-06, 2.8795e-07, 6.9810e-08, 6.4443e-08,\n",
            "        9.2834e-05, 8.2790e-06, 1.7160e-07, 4.1272e-10, 1.9691e-06, 3.6251e-06,\n",
            "        3.9833e-05, 1.7116e-06, 6.8694e-06, 4.7427e-10, 1.6246e-06, 6.5679e-06,\n",
            "        1.2437e-03, 6.2320e-07, 9.6231e-07, 5.8365e-07, 2.6116e-05, 1.6897e-05,\n",
            "        3.5007e-06, 1.7335e-06, 1.1534e-05, 1.1710e-05, 1.8027e-07, 9.4334e-06,\n",
            "        2.0263e-08, 1.9153e-06, 2.7316e-05, 1.1353e-04, 1.8519e-06, 3.1101e-07,\n",
            "        7.2980e-06, 1.5165e-07, 1.8366e-07, 4.2515e-07, 1.1457e-05, 1.2292e-07,\n",
            "        3.9334e-07, 9.3788e-06, 4.2859e-05, 6.7712e-06, 3.1463e-06, 2.2724e-05,\n",
            "        9.0885e-06, 7.7281e-06, 1.2669e-05, 1.5664e-05, 4.4247e-05, 7.4429e-07,\n",
            "        2.5126e-05, 9.1871e-07, 1.1124e-06, 1.0441e-05, 7.6592e-06, 1.0756e-03,\n",
            "        2.1262e-06, 2.0382e-06, 1.3722e-06, 7.0784e-06, 3.1322e-07, 9.9888e-06,\n",
            "        7.9708e-05, 6.1571e-07, 4.7016e-06, 1.4389e-06, 9.1283e-04, 3.5717e-06,\n",
            "        5.5149e-07, 4.2360e-08, 1.7979e-06, 2.2697e-06, 1.5643e-04, 1.2473e-06,\n",
            "        8.4184e-06, 5.2328e-06, 2.4582e-07, 5.4029e-06, 7.8496e-03, 1.8264e-06,\n",
            "        1.0904e-06, 1.8879e-06, 3.9742e-05, 1.2181e-05, 1.3367e-04, 1.8208e-06,\n",
            "        4.1287e-09, 2.7250e-07, 9.4599e-07, 1.1260e-05, 6.0450e-06, 1.1098e-06,\n",
            "        9.5325e-05, 9.0017e-04, 3.4555e-05, 5.3063e-08, 1.7391e-05, 5.1025e-07,\n",
            "        3.9495e-07, 7.6868e-07, 1.1620e-05, 1.3152e-04, 1.0929e-06, 3.4051e-05,\n",
            "        2.1869e-05, 2.8123e-05, 6.8839e-06, 1.2848e-04, 1.5502e-05, 2.1269e-05,\n",
            "        8.1821e-06, 2.5077e-05, 1.8567e-05, 1.4727e-05, 4.9393e-06, 1.1699e-05,\n",
            "        9.1093e-06, 1.2318e-05, 1.1794e-05, 3.2263e-07, 6.2362e-06, 8.2485e-06,\n",
            "        1.0416e-05, 5.5283e-06, 1.3792e-05, 2.3061e-05, 5.5355e-06, 6.1477e-06,\n",
            "        8.3194e-06, 1.5520e-05, 2.6800e-06, 6.3439e-06, 8.8032e-06, 2.8128e-05,\n",
            "        9.7583e-06, 1.8751e-05, 2.2710e-05, 2.1732e-05, 5.2426e-06, 1.3943e-05,\n",
            "        1.4437e-05, 1.8337e-05, 1.3972e-06, 2.6174e-05, 8.3791e-06, 1.7207e-05,\n",
            "        1.3489e-05, 8.0312e-06, 1.8757e-05, 8.6874e-06, 2.6580e-05, 1.5306e-05,\n",
            "        1.4446e-05, 1.7325e-05, 1.4065e-05, 7.9252e-06, 7.6243e-06, 3.3814e-07,\n",
            "        2.1181e-05, 8.0401e-06, 8.0092e-06, 1.8050e-05, 8.8146e-06, 1.3430e-05,\n",
            "        9.0506e-06, 1.1525e-05, 2.5078e-05, 2.6546e-05], device='cuda:0')}, 4: {'step': tensor(20000.), 'exp_avg': tensor([-1.3828e-04, -1.4573e-05,  2.1917e-04,  4.9596e-04,  1.5402e-05,\n",
            "        -3.0353e-05, -9.8491e-05,  3.0916e-05, -4.1013e-05, -5.7939e-06,\n",
            "         4.6273e-04, -3.0315e-05, -5.3841e-05,  2.0498e-06, -2.4467e-05,\n",
            "         2.5884e-04,  3.5421e-06, -1.8152e-06, -2.5928e-05,  6.9259e-05,\n",
            "         6.7989e-06, -3.8696e-05,  2.3935e-06, -3.9908e-05, -7.8153e-08,\n",
            "         8.3969e-06,  2.4123e-04, -2.5331e-04,  2.9397e-05,  3.2043e-07,\n",
            "         2.6817e-05, -5.6553e-05, -6.7736e-04, -4.7265e-06, -3.4181e-05,\n",
            "        -1.9095e-05, -1.5058e-04, -6.4346e-06, -6.6399e-04,  2.9671e-05,\n",
            "         2.7612e-05,  4.8165e-06, -2.0904e-04,  1.1717e-04,  3.5581e-05,\n",
            "         8.2828e-06,  5.4256e-05,  4.9509e-05,  2.0423e-06,  1.5424e-04,\n",
            "         2.4033e-06, -2.3787e-06, -4.3703e-05,  1.0746e-04, -3.7791e-05,\n",
            "         4.8348e-05, -7.3473e-05, -3.1783e-05,  1.1450e-04, -1.8587e-05,\n",
            "        -6.3057e-05,  3.5086e-04, -2.9754e-05, -1.5970e-04,  4.1030e-05,\n",
            "         1.8920e-04,  2.8177e-04,  1.7271e-03, -1.1256e-05,  5.2401e-04,\n",
            "        -2.1250e-04, -1.3963e-05, -1.7347e-04,  4.1518e-06, -1.1974e-04,\n",
            "        -3.8921e-06, -1.1171e-04,  1.8459e-04,  4.2896e-04, -2.6423e-03,\n",
            "         3.1015e-05,  1.9931e-04,  8.5503e-06, -3.5370e-04, -7.6663e-06,\n",
            "         4.2531e-04, -7.3034e-05,  2.0611e-04,  4.9844e-05, -4.9917e-06,\n",
            "        -2.7771e-04, -9.4318e-04,  1.4536e-05, -1.3637e-06,  2.2817e-04,\n",
            "        -4.5815e-05, -1.4774e-03,  3.8444e-04, -4.6958e-04, -1.2931e-06,\n",
            "        -5.6429e-04,  1.0133e-04, -6.1109e-03, -8.3825e-05,  2.1669e-04,\n",
            "         1.2327e-04,  1.6715e-03, -2.5263e-04, -2.3597e-04,  2.7831e-04,\n",
            "        -8.2906e-06,  1.6078e-03,  1.8958e-04,  8.8659e-04,  2.5012e-05,\n",
            "         2.0532e-04,  1.8733e-03, -8.6418e-04, -2.8192e-04,  1.8779e-04,\n",
            "        -1.0797e-05,  3.2850e-05,  3.6667e-05,  4.8670e-05,  8.9870e-04,\n",
            "         6.9525e-05, -2.4009e-05, -6.8380e-04, -1.2267e-03, -6.0219e-04,\n",
            "         3.6554e-05,  1.0014e-03,  6.2700e-05, -6.4497e-04,  3.0751e-04,\n",
            "        -2.9410e-04, -5.8922e-05,  7.1124e-05, -9.4556e-04,  3.2584e-05,\n",
            "        -4.6460e-04, -3.5278e-04,  2.3632e-04,  7.2311e-03,  1.9713e-04,\n",
            "         2.4124e-04,  2.8897e-04, -6.1843e-04, -3.8871e-05,  1.0138e-03,\n",
            "        -1.3858e-03,  1.3589e-04, -1.4601e-04, -2.7033e-05, -1.8802e-03,\n",
            "        -3.7148e-04,  2.1662e-05,  1.1479e-05,  7.0103e-05, -5.8977e-05,\n",
            "         1.6648e-03,  2.0777e-04, -3.0432e-04, -1.5290e-04,  3.5742e-05,\n",
            "        -3.6115e-04,  5.7410e-03, -6.5322e-05,  8.6883e-05,  5.1624e-05,\n",
            "         1.7653e-03,  5.5448e-04, -1.1631e-03,  6.4228e-04, -2.0517e-05,\n",
            "        -7.9486e-05, -3.1137e-05,  4.4182e-04,  1.7297e-04,  7.1096e-05,\n",
            "         9.2055e-04, -3.2702e-03,  9.2766e-04,  1.0117e-05,  8.1318e-05,\n",
            "         3.3665e-05,  6.6509e-05, -2.7960e-04,  5.5703e-04,  2.0629e-03,\n",
            "        -1.7654e-04,  1.0891e-04,  1.1065e-03,  3.5480e-04, -3.5909e-04,\n",
            "        -1.5087e-03, -3.1231e-04, -4.6913e-05, -8.9774e-04, -1.9501e-04,\n",
            "        -4.4120e-04, -4.9395e-04, -2.4460e-05, -1.1431e-03,  3.1608e-04,\n",
            "         3.6282e-04, -1.1965e-03, -4.4531e-05,  1.1785e-04,  1.2286e-03,\n",
            "        -7.2455e-05,  1.0476e-03, -1.1864e-03, -1.6776e-04, -2.4614e-04,\n",
            "        -4.1602e-04, -1.4841e-03,  1.1715e-03, -1.4299e-04, -7.4970e-04,\n",
            "         5.6413e-04, -2.8493e-04, -3.2236e-04,  6.2395e-04,  3.6512e-04,\n",
            "        -1.0128e-03,  6.8609e-04,  2.0947e-04, -4.4130e-04, -1.7153e-03,\n",
            "         2.2038e-04,  3.0859e-04,  1.7309e-03,  4.9521e-04,  5.0765e-05,\n",
            "         1.4542e-05,  4.9460e-04, -1.7993e-05,  9.7943e-04, -8.6551e-04,\n",
            "         6.2776e-04,  5.4576e-04, -9.7303e-04,  2.1904e-04, -2.6057e-05,\n",
            "        -8.3806e-05, -6.6738e-04,  6.7590e-04,  1.1205e-03, -9.4517e-04,\n",
            "         7.6027e-04,  1.1731e-03, -8.7000e-04,  4.1517e-04,  3.3788e-04,\n",
            "         1.5596e-03], device='cuda:0'), 'exp_avg_sq': tensor([7.0545e-07, 2.8551e-08, 2.8590e-07, 3.0039e-06, 2.3750e-08, 4.2695e-08,\n",
            "        1.5752e-07, 2.1240e-07, 9.7678e-08, 2.1296e-09, 6.2101e-07, 9.6302e-08,\n",
            "        8.0584e-08, 6.5594e-10, 1.3878e-08, 1.5024e-05, 3.7330e-08, 8.0157e-09,\n",
            "        2.2008e-07, 1.3566e-06, 9.7879e-09, 8.1830e-08, 4.3624e-08, 6.6638e-08,\n",
            "        2.7766e-08, 6.8486e-09, 4.5021e-05, 1.1298e-06, 5.7343e-09, 1.7678e-11,\n",
            "        7.4599e-08, 3.7123e-08, 4.4282e-06, 8.5750e-08, 2.3127e-08, 4.5426e-07,\n",
            "        1.5494e-07, 3.6105e-07, 3.2298e-05, 4.2267e-08, 2.9353e-08, 4.5035e-09,\n",
            "        4.1055e-07, 3.8224e-07, 7.6304e-07, 4.1589e-08, 1.3833e-07, 1.1757e-06,\n",
            "        1.8244e-08, 1.0375e-06, 5.4770e-08, 3.3213e-09, 9.0123e-08, 9.2798e-06,\n",
            "        9.1325e-07, 1.4031e-08, 4.6287e-07, 3.4536e-08, 9.2318e-08, 2.8186e-07,\n",
            "        8.0481e-08, 1.0660e-05, 2.7408e-08, 5.5004e-06, 8.7187e-06, 1.1157e-05,\n",
            "        6.8437e-06, 3.4681e-05, 9.2128e-08, 2.8330e-06, 1.1393e-05, 1.4485e-07,\n",
            "        9.2860e-06, 6.3110e-09, 1.9655e-06, 1.3095e-08, 1.7244e-06, 8.2282e-06,\n",
            "        7.5748e-06, 3.4806e-04, 5.9419e-09, 1.3598e-06, 1.0542e-07, 5.8530e-06,\n",
            "        3.6371e-08, 4.9316e-06, 1.6402e-06, 2.8795e-07, 6.9810e-08, 6.4443e-08,\n",
            "        9.2834e-05, 8.2790e-06, 1.7160e-07, 4.1272e-10, 1.9691e-06, 3.6251e-06,\n",
            "        3.9833e-05, 1.7116e-06, 6.8694e-06, 4.7427e-10, 1.6246e-06, 6.5679e-06,\n",
            "        1.2437e-03, 6.2320e-07, 9.6231e-07, 5.8365e-07, 2.6116e-05, 1.6897e-05,\n",
            "        3.5007e-06, 1.7335e-06, 1.1534e-05, 1.1710e-05, 1.8027e-07, 9.4334e-06,\n",
            "        2.0263e-08, 1.9153e-06, 2.7316e-05, 1.1353e-04, 1.8519e-06, 3.1101e-07,\n",
            "        7.2980e-06, 1.5165e-07, 1.8366e-07, 4.2515e-07, 1.1457e-05, 1.2292e-07,\n",
            "        3.9334e-07, 9.3788e-06, 4.2859e-05, 6.7712e-06, 3.1463e-06, 2.2724e-05,\n",
            "        9.0885e-06, 7.7281e-06, 1.2669e-05, 1.5664e-05, 4.4247e-05, 7.4429e-07,\n",
            "        2.5126e-05, 9.1871e-07, 1.1124e-06, 1.0441e-05, 7.6592e-06, 1.0756e-03,\n",
            "        2.1262e-06, 2.0382e-06, 1.3722e-06, 7.0784e-06, 3.1322e-07, 9.9888e-06,\n",
            "        7.9708e-05, 6.1571e-07, 4.7016e-06, 1.4389e-06, 9.1283e-04, 3.5717e-06,\n",
            "        5.5149e-07, 4.2360e-08, 1.7979e-06, 2.2697e-06, 1.5643e-04, 1.2473e-06,\n",
            "        8.4184e-06, 5.2328e-06, 2.4582e-07, 5.4029e-06, 7.8496e-03, 1.8264e-06,\n",
            "        1.0904e-06, 1.8879e-06, 3.9742e-05, 1.2181e-05, 1.3367e-04, 1.8208e-06,\n",
            "        4.1287e-09, 2.7250e-07, 9.4599e-07, 1.1260e-05, 6.0450e-06, 1.1098e-06,\n",
            "        9.5325e-05, 9.0017e-04, 3.4555e-05, 5.3063e-08, 1.7391e-05, 5.1025e-07,\n",
            "        3.9495e-07, 7.6868e-07, 1.1620e-05, 1.3152e-04, 1.0929e-06, 3.4051e-05,\n",
            "        2.1869e-05, 2.8123e-05, 6.8839e-06, 1.2848e-04, 1.5502e-05, 2.1269e-05,\n",
            "        8.1821e-06, 2.5077e-05, 1.8567e-05, 1.4727e-05, 4.9393e-06, 1.1699e-05,\n",
            "        9.1093e-06, 1.2318e-05, 1.1794e-05, 3.2263e-07, 6.2362e-06, 8.2485e-06,\n",
            "        1.0416e-05, 5.5283e-06, 1.3792e-05, 2.3061e-05, 5.5355e-06, 6.1477e-06,\n",
            "        8.3194e-06, 1.5520e-05, 2.6800e-06, 6.3439e-06, 8.8032e-06, 2.8128e-05,\n",
            "        9.7583e-06, 1.8751e-05, 2.2710e-05, 2.1732e-05, 5.2426e-06, 1.3943e-05,\n",
            "        1.4437e-05, 1.8337e-05, 1.3972e-06, 2.6174e-05, 8.3791e-06, 1.7207e-05,\n",
            "        1.3489e-05, 8.0312e-06, 1.8757e-05, 8.6874e-06, 2.6580e-05, 1.5306e-05,\n",
            "        1.4446e-05, 1.7325e-05, 1.4065e-05, 7.9252e-06, 7.6243e-06, 3.3814e-07,\n",
            "        2.1181e-05, 8.0401e-06, 8.0092e-06, 1.8050e-05, 8.8146e-06, 1.3430e-05,\n",
            "        9.0506e-06, 1.1525e-05, 2.5078e-05, 2.6546e-05], device='cuda:0')}, 5: {'step': tensor(20000.), 'exp_avg': tensor([[ 1.3857e-07,  5.4946e-07, -8.6056e-10,  ..., -1.1664e-07,\n",
            "          5.8058e-07, -2.7557e-07],\n",
            "        [ 1.0013e-04,  1.1342e-04, -3.9174e-05,  ...,  9.0061e-05,\n",
            "          1.3708e-04, -5.5979e-05],\n",
            "        [ 5.0940e-06,  1.3852e-06, -6.7443e-10,  ...,  2.9082e-07,\n",
            "          5.3394e-06, -2.6234e-09],\n",
            "        ...,\n",
            "        [-1.3632e-06,  1.8551e-05, -1.9503e-05,  ...,  4.4803e-05,\n",
            "          1.5839e-05, -3.4346e-05],\n",
            "        [ 4.0358e-05,  7.9842e-06, -3.0902e-05,  ...,  6.1342e-06,\n",
            "          1.8208e-05, -2.5411e-05],\n",
            "        [ 4.6728e-05,  1.6566e-05, -5.1571e-05,  ...,  2.4879e-05,\n",
            "          2.9427e-05, -2.0778e-05]], device='cuda:0'), 'exp_avg_sq': tensor([[3.2802e-10, 2.6048e-10, 1.2685e-15,  ..., 5.8437e-12, 3.2719e-10,\n",
            "         2.9787e-10],\n",
            "        [2.3466e-07, 4.1267e-07, 1.1469e-07,  ..., 3.2329e-07, 4.2908e-07,\n",
            "         1.4206e-07],\n",
            "        [3.1333e-09, 2.9597e-11, 2.8232e-16,  ..., 8.9659e-12, 3.1587e-09,\n",
            "         4.9944e-16],\n",
            "        ...,\n",
            "        [3.9654e-09, 2.9137e-08, 5.7336e-08,  ..., 1.3548e-07, 2.2143e-08,\n",
            "         1.5811e-07],\n",
            "        [1.5889e-07, 7.8359e-08, 1.2596e-07,  ..., 1.4724e-07, 1.6467e-07,\n",
            "         9.0153e-09],\n",
            "        [8.0743e-08, 8.3030e-09, 1.0445e-07,  ..., 3.9152e-08, 3.9497e-08,\n",
            "         6.4843e-08]], device='cuda:0')}, 6: {'step': tensor(20000.), 'exp_avg': tensor([6.4868e-07, 1.4784e-04, 5.3774e-06,  ..., 3.7690e-05, 6.1920e-05,\n",
            "        5.2862e-05], device='cuda:0'), 'exp_avg_sq': tensor([3.2955e-10, 4.3144e-07, 3.1590e-09,  ..., 1.5890e-07, 4.4194e-07,\n",
            "        1.0483e-07], device='cuda:0')}}\n",
            "param_groups \t [{'lr': 0.001, 'betas': (0.9, 0.999), 'eps': 1e-08, 'weight_decay': 0, 'amsgrad': False, 'maximize': False, 'foreach': None, 'capturable': False, 'differentiable': False, 'fused': None, 'params': [0, 1, 2, 3, 4, 5, 6]}]\n"
          ]
        }
      ],
      "source": [
        "print(\"Optimizer's state_dict:\")\n",
        "for var_name in opt.state_dict():\n",
        "    print(var_name, \"\\t\", opt.state_dict()[var_name])"
      ]
    },
    {
      "cell_type": "code",
      "execution_count": 188,
      "metadata": {},
      "outputs": [
        {
          "name": "stderr",
          "output_type": "stream",
          "text": [
            "<>:1: SyntaxWarning: invalid escape sequence '\\G'\n",
            "<>:1: SyntaxWarning: invalid escape sequence '\\G'\n",
            "C:\\Users\\alshe\\AppData\\Local\\Temp\\ipykernel_40612\\1424886833.py:1: SyntaxWarning: invalid escape sequence '\\G'\n",
            "  PATH = 'D:\\GitHub\\WorkSpace\\AI_HUB_ML-DL\\model_dict_lstm'\n"
          ]
        }
      ],
      "source": [
        "PATH = 'D:\\GitHub\\WorkSpace\\AI_HUB_ML-DL\\model_dict_lstm'\n",
        "torch.save(model.state_dict(), PATH)"
      ]
    },
    {
      "cell_type": "code",
      "execution_count": 189,
      "metadata": {},
      "outputs": [
        {
          "data": {
            "text/plain": [
              "<All keys matched successfully>"
            ]
          },
          "execution_count": 189,
          "metadata": {},
          "output_type": "execute_result"
        }
      ],
      "source": [
        "model.load_state_dict(torch.load(PATH, weights_only=True))"
      ]
    },
    {
      "cell_type": "code",
      "execution_count": 190,
      "metadata": {},
      "outputs": [
        {
          "data": {
            "text/plain": [
              "CharRNNLoop(\n",
              "  (emb): Embedding(2661, 8)\n",
              "  (rnn): LSTM(8, 64, batch_first=True)\n",
              "  (hid_to_logits): Linear(in_features=64, out_features=2661, bias=True)\n",
              ")"
            ]
          },
          "execution_count": 190,
          "metadata": {},
          "output_type": "execute_result"
        }
      ],
      "source": [
        "model.eval()"
      ]
    },
    {
      "cell_type": "markdown",
      "metadata": {
        "id": "U09vQoIl4h80"
      },
      "source": [
        "## Additional materials on topic\n",
        "\n",
        "1. [Andrew Karpathy blog post about RNN.](http://karpathy.github.io/2015/05/21/rnn-effectiveness/)\\\n",
        "There are several examples of genration: Shakespeare texts, Latex formulas, Linux Sourse Code and children names.\n",
        "2. <a href='https://github.com/karpathy/char-rnn'> Repo with char-rnn code </a>\n",
        "3. Cool repo with [PyTorch examples](https://github.com/spro/practical-pytorch`)"
      ]
    }
  ],
  "metadata": {
    "anaconda-cloud": {},
    "colab": {
      "provenance": []
    },
    "kernelspec": {
      "display_name": "Python 3",
      "language": "python",
      "name": "python3"
    },
    "language_info": {
      "codemirror_mode": {
        "name": "ipython",
        "version": 3
      },
      "file_extension": ".py",
      "mimetype": "text/x-python",
      "name": "python",
      "nbconvert_exporter": "python",
      "pygments_lexer": "ipython3",
      "version": "3.12.7"
    },
    "toc": {
      "base_numbering": 1,
      "nav_menu": {},
      "number_sections": true,
      "sideBar": true,
      "skip_h1_title": false,
      "title_cell": "Table of Contents",
      "title_sidebar": "Contents",
      "toc_cell": false,
      "toc_position": {},
      "toc_section_display": true,
      "toc_window_display": true
    }
  },
  "nbformat": 4,
  "nbformat_minor": 0
}
