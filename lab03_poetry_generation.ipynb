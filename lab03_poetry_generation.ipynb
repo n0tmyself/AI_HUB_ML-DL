{
  "cells": [
    {
      "cell_type": "markdown",
      "metadata": {
        "id": "FKyFFYXd4h8u"
      },
      "source": [
        "# <a href=\"https://girafe.ai/\" target=\"_blank\" rel=\"noopener noreferrer\"><img src=\"https://raw.githubusercontent.com/girafe-ai/ml-course/7096a5df4cada5ee651be1e3215c2f7fb8a7e0bf/logo_margin.svg\" alt=\"girafe-ai logo\" width=\"150px\" align=\"left\"></a> [ml-basic course](https://github.com/girafe-ai/ml-course) <a class=\"tocSkip\">"
      ]
    },
    {
      "cell_type": "markdown",
      "metadata": {
        "id": "p5YcoFEr4h8v"
      },
      "source": [
        "# Almost Shakespeare\n",
        "\n",
        "Let's try to generate some Shakespeare poetry using RNNs. The sonnets file is available in the notebook directory.\n",
        "\n",
        "Text generation can be designed in several steps:\n",
        "    \n",
        "1. Data loading\n",
        "2. Dictionary generation\n",
        "3. Data preprocessing\n",
        "4. Model (neural network) training\n",
        "5. Text generation (model evaluation)"
      ]
    },
    {
      "cell_type": "markdown",
      "metadata": {
        "id": "OTVgyfjv4h8w"
      },
      "source": [
        "### Data loading"
      ]
    },
    {
      "cell_type": "markdown",
      "metadata": {
        "id": "tsGrFIon4h8w"
      },
      "source": [
        "Shakespeare sonnets are awailable at this [link](http://www.gutenberg.org/ebooks/1041?msg=welcome_stranger). In addition, they are stored in the same directory as this notebook (`sonnetes.txt`).\n",
        "\n",
        "Simple preprocessing is already done for you in the next cell: all technical info is dropped.\n",
        "\n",
        "**Alternatively**\n",
        "\n",
        "You could use file `onegin.txt` with Russian texts or your natve language poetry to be able to assess results quality.\n",
        "\n",
        "**Note: In case of Onegin text you need to adjust reading procedure yourself!!!** (this file has a bit different format than `sonnets.txt`)"
      ]
    },
    {
      "cell_type": "code",
      "execution_count": 1,
      "metadata": {
        "id": "XiGDHyhj5C4V"
      },
      "outputs": [],
      "source": [
        "import torch\n",
        "import torch.nn.functional as F\n",
        "from torch import nn\n",
        "import matplotlib.pyplot as plt\n",
        "import numpy as np\n",
        "from random import sample\n",
        "from IPython.display import clear_output\n",
        "import re\n",
        "from typing import Optional, Sequence"
      ]
    },
    {
      "cell_type": "code",
      "execution_count": 2,
      "metadata": {
        "ExecuteTime": {
          "end_time": "2021-11-11T13:32:32.906264Z",
          "start_time": "2021-11-11T13:32:32.901604Z"
        },
        "id": "4g-YKJXF4h8x"
      },
      "outputs": [],
      "source": [
        "with open(\"sonnets.txt\", \"r\") as iofile:\n",
        "    text = iofile.readlines()\n",
        "\n",
        "TEXT_START = 45\n",
        "TEXT_END = -368\n",
        "text = text[TEXT_START:TEXT_END]\n",
        "assert len(text) == 2616"
      ]
    },
    {
      "cell_type": "markdown",
      "metadata": {
        "id": "TKHiMkoW4h8x"
      },
      "source": [
        "In opposite to the in-class practice, this time we want to predict complex text. Let's reduce the complexity of the task and lowercase all the symbols.\n",
        "\n",
        "Now variable `text` is a list of strings. Join all the strings into one and lowercase it."
      ]
    },
    {
      "cell_type": "code",
      "execution_count": 3,
      "metadata": {
        "ExecuteTime": {
          "end_time": "2021-11-11T16:16:31.398119Z",
          "start_time": "2021-11-11T16:16:31.380172Z"
        },
        "id": "9vabKH7k4h8y"
      },
      "outputs": [],
      "source": [
        "import string"
      ]
    },
    {
      "cell_type": "code",
      "execution_count": 4,
      "metadata": {},
      "outputs": [],
      "source": [
        "nested_text = [[re.sub(r'[^\\w\\s]', '', word.lower()) for word in line.strip().split()] for line in text]\n",
        "filtered_nested_text = [line for line in nested_text if len(line) > 1]\n",
        "text = filtered_nested_text\n",
        "tokens = {word for line in filtered_nested_text for word in line}"
      ]
    },
    {
      "cell_type": "code",
      "execution_count": 5,
      "metadata": {},
      "outputs": [],
      "source": [
        "lengths = list(map(len, filtered_nested_text))\n",
        "MAX_LENGTH = max(lengths)"
      ]
    },
    {
      "cell_type": "markdown",
      "metadata": {
        "id": "qheL7uXd4h8y"
      },
      "source": [
        "Put all the characters, that you've seen in the text, into variable `tokens`."
      ]
    },
    {
      "cell_type": "markdown",
      "metadata": {
        "id": "drIfklai4h8z"
      },
      "source": [
        "Create dictionary `token_to_idx = {<char>: <index>}` and dictionary `idx_to_token = {<index>: <char>}`"
      ]
    },
    {
      "cell_type": "code",
      "execution_count": 6,
      "metadata": {
        "id": "yfNo50M14h8z"
      },
      "outputs": [],
      "source": [
        "# dict <index>:<char>\n",
        "# Your great code here\n",
        "\n",
        "# dict <char>:<index>\n",
        "# Your great code here\n",
        "PAD_TOKEN = \"\"\n",
        "END_TOKEN = \"\\n\"\n",
        "\n",
        "\n",
        "token_to_idx = {'': 0}\n",
        "idx_to_token = {0: ''}\n",
        "\n",
        "for idx, char in enumerate(tokens):\n",
        "    token_to_idx[char] = idx + 1\n",
        "    idx_to_token[idx + 1] = char"
      ]
    },
    {
      "cell_type": "code",
      "execution_count": 7,
      "metadata": {
        "id": "u2MDjZSdCkKM"
      },
      "outputs": [],
      "source": [
        "def text_to_matrix(\n",
        "    names: Sequence[str],\n",
        "    max_len: Optional[int] = None,\n",
        "    pad: int = token_to_idx[PAD_TOKEN],\n",
        "    dtype=np.int64,\n",
        "    batch_first: bool = True,\n",
        "):\n",
        "    max_len = max_len or max(map(len, names))\n",
        "    text_idx = np.full((len(names), MAX_LENGTH), pad, np.int64)\n",
        "\n",
        "    for i, word in enumerate(names):\n",
        "        line_ix = [token_to_idx[char] for char in word]\n",
        "        text_idx[i, : len(line_ix)] = line_ix\n",
        "\n",
        "\n",
        "    return text_idx"
      ]
    },
    {
      "cell_type": "code",
      "execution_count": 8,
      "metadata": {},
      "outputs": [
        {
          "data": {
            "text/plain": [
              "array([[2367,  273, 1069, ...,    0,    0,    0],\n",
              "       [1905, 2828, 1419, ...,    0,    0,    0],\n",
              "       [ 730,  245,  351, ...,    0,    0,    0],\n",
              "       ...,\n",
              "       [1596, 1797, 2953, ...,    0,    0,    0],\n",
              "       [1813, 1506, 1596, ..., 2107, 2986,    0],\n",
              "       [ 289,  134, 1415, ...,    0,    0,    0]], dtype=int64)"
            ]
          },
          "execution_count": 8,
          "metadata": {},
          "output_type": "execute_result"
        }
      ],
      "source": [
        "text_to_matrix(text)"
      ]
    },
    {
      "cell_type": "markdown",
      "metadata": {
        "id": "Fk_pAi7g4h8z"
      },
      "source": [
        "*Comment: in this task we have only 38 different tokens, so let's use one-hot encoding.*"
      ]
    },
    {
      "cell_type": "markdown",
      "metadata": {
        "id": "oCgdG8-M4h8z"
      },
      "source": [
        "### Building the model"
      ]
    },
    {
      "cell_type": "markdown",
      "metadata": {
        "id": "XXp_A0o14h8z"
      },
      "source": [
        "Now we want to build and train recurrent neural net which would be able to something similar to Shakespeare's poetry.\n",
        "\n",
        "Let's use vanilla RNN, similar to the one created during the lesson."
      ]
    },
    {
      "cell_type": "code",
      "execution_count": 9,
      "metadata": {
        "id": "RX-xMdVV4h8z"
      },
      "outputs": [],
      "source": [
        "emb_size = 16"
      ]
    },
    {
      "cell_type": "code",
      "execution_count": 10,
      "metadata": {
        "id": "9j5zIjbQ2Rao"
      },
      "outputs": [],
      "source": [
        "Embedding = nn.Embedding(len(tokens) + 1, emb_size)"
      ]
    },
    {
      "cell_type": "code",
      "execution_count": 11,
      "metadata": {
        "id": "F4sxQ6bVLh0l"
      },
      "outputs": [],
      "source": [
        "matrix_text = text_to_matrix(text)\n",
        "batch = torch.from_numpy(matrix_text).type(torch.int64)\n",
        "emb = Embedding(batch)"
      ]
    },
    {
      "cell_type": "code",
      "execution_count": 12,
      "metadata": {},
      "outputs": [
        {
          "data": {
            "text/plain": [
              "torch.Size([2155, 11, 16])"
            ]
          },
          "execution_count": 12,
          "metadata": {},
          "output_type": "execute_result"
        }
      ],
      "source": [
        "emb.shape"
      ]
    },
    {
      "cell_type": "code",
      "execution_count": 13,
      "metadata": {
        "colab": {
          "base_uri": "https://localhost:8080/"
        },
        "id": "E3u7SsRLcXWe",
        "outputId": "1c69d776-eb21-4f38-bcde-b71f18bb6965"
      },
      "outputs": [
        {
          "data": {
            "text/plain": [
              "torch.Size([2155, 11])"
            ]
          },
          "execution_count": 13,
          "metadata": {},
          "output_type": "execute_result"
        }
      ],
      "source": [
        "batch.size()"
      ]
    },
    {
      "cell_type": "code",
      "execution_count": 14,
      "metadata": {
        "id": "dbM6szZBMl7b"
      },
      "outputs": [],
      "source": [
        "class CharRNNCell(nn.Module):\n",
        "    \"\"\"Implement the scheme above as torch module\"\"\"\n",
        "\n",
        "    def __init__(self, num_tokens=len(tokens) + 1, embedding_size=emb_size, rnn_num_units=64):\n",
        "        super().__init__()\n",
        "        self.num_units = rnn_num_units\n",
        "\n",
        "        self.embedding = nn.Embedding(num_tokens, embedding_size)\n",
        "        self.rnn_update = nn.Linear(embedding_size + rnn_num_units, rnn_num_units)\n",
        "        self.rnn_to_logits = nn.Linear(rnn_num_units, num_tokens)\n",
        "\n",
        "    def forward(self, x, h_prev):\n",
        "        \"\"\"\n",
        "        This method computes h_next(x, h_prev) and log P(x_next | h_next)\n",
        "        We'll call it repeatedly to produce the whole sequence.\n",
        "\n",
        "        :param x: batch of character ids, containing vector of int64\n",
        "        :param h_prev: previous rnn hidden states, containing matrix [batch, rnn_num_units] of float32\n",
        "        \"\"\"\n",
        "        # get vector embedding of x\n",
        "        # batch, seq leng, emb dim\n",
        "        x_emb = self.embedding(x)\n",
        "\n",
        "        # compute next hidden state using self.rnn_update\n",
        "        # hint: use torch.cat(..., dim=...) for concatenation\n",
        "        x_and_h = torch.cat([x_emb, h_prev], dim=-1)\n",
        "        h_next = self.rnn_update(x_and_h)\n",
        "\n",
        "        h_next = torch.tanh(h_next)\n",
        "\n",
        "        # compute logits for next character probs\n",
        "        logits = self.rnn_to_logits(h_next)\n",
        "\n",
        "        return h_next, logits\n",
        "\n",
        "    def initial_state(self, batch_size):\n",
        "        \"\"\"return rnn state before it processes first input (aka h0)\"\"\"\n",
        "        # TODO init with normal distribution and make it trainable\n",
        "        return torch.zeros(batch_size, self.num_units, requires_grad=True)"
      ]
    },
    {
      "cell_type": "code",
      "execution_count": 15,
      "metadata": {
        "id": "C2qtFoIlY2hi"
      },
      "outputs": [],
      "source": [
        "char_rnn = CharRNNCell()\n",
        "criterion = nn.NLLLoss()"
      ]
    },
    {
      "cell_type": "code",
      "execution_count": 16,
      "metadata": {
        "id": "OGFl40QmY5ga"
      },
      "outputs": [],
      "source": [
        "def rnn_loop(char_rnn, batch_ix):\n",
        "    \"\"\"Computes log P(next_character) for all time-steps in names_ix\n",
        "\n",
        "    :param names_ix: an int32 matrix of shape [batch, time], output of to_matrix(names)\n",
        "    \"\"\"\n",
        "    batch_size, max_length = batch_ix.size()\n",
        "    hid_state = char_rnn.initial_state(batch_size)\n",
        "    logprobs = []\n",
        "\n",
        "    for x_t in batch_ix.transpose(0, 1):\n",
        "        hid_state, logits = char_rnn(x_t, hid_state)  # <-- here we call our one-step code\n",
        "        logprobs.append(F.log_softmax(logits, -1))\n",
        "\n",
        "    return torch.stack(logprobs, dim=1)"
      ]
    },
    {
      "cell_type": "code",
      "execution_count": 17,
      "metadata": {
        "colab": {
          "base_uri": "https://localhost:8080/"
        },
        "id": "xVsB3G1rY9yn",
        "outputId": "8a7201bf-9c00-4bd8-d7d3-9bd289f7ceab"
      },
      "outputs": [
        {
          "name": "stdout",
          "output_type": "stream",
          "text": [
            "torch.Size([2155, 11])\n"
          ]
        },
        {
          "data": {
            "text/plain": [
              "torch.Size([2155, 11, 3214])"
            ]
          },
          "execution_count": 17,
          "metadata": {},
          "output_type": "execute_result"
        }
      ],
      "source": [
        "batch_ix = text_to_matrix(text)\n",
        "batch_ix = torch.tensor(batch_ix, dtype=torch.int64)\n",
        "print(batch_ix.shape)\n",
        "\n",
        "logp_seq = rnn_loop(char_rnn, batch_ix)\n",
        "logp_seq.shape"
      ]
    },
    {
      "cell_type": "code",
      "execution_count": 18,
      "metadata": {
        "id": "6svoH1CdvPHn"
      },
      "outputs": [],
      "source": [
        "predictions_logp = logp_seq[:, :-1]\n",
        "actual_next_tokens = batch[:, 1:]\n",
        "\n",
        "# .contiguous() method checks that tensor is stored in the memory correctly to\n",
        "# get its view of desired shape.\n",
        "\n",
        "loss = criterion(\n",
        "    predictions_logp.contiguous().view(-1, len(tokens) + 1),\n",
        "    actual_next_tokens.contiguous().view(-1),\n",
        ")\n",
        "\n",
        "loss.backward()"
      ]
    },
    {
      "cell_type": "code",
      "execution_count": 19,
      "metadata": {},
      "outputs": [],
      "source": [
        "def calculate_accuracy(predictions, targets):\n",
        "    pred_inds = torch.argmax(predictions, dim=-1)\n",
        "    accuracy = (pred_inds == targets).sum().item() / targets.numel()\n",
        "    return accuracy"
      ]
    },
    {
      "cell_type": "code",
      "execution_count": 22,
      "metadata": {
        "id": "EcLssDoTvdJw"
      },
      "outputs": [
        {
          "name": "stdout",
          "output_type": "stream",
          "text": [
            "0\n",
            "1\n",
            "2\n",
            "3\n",
            "4\n",
            "5\n",
            "6\n",
            "7\n",
            "8\n",
            "9\n",
            "10\n",
            "11\n",
            "12\n",
            "13\n",
            "14\n",
            "15\n",
            "16\n",
            "17\n",
            "18\n",
            "19\n"
          ]
        }
      ],
      "source": [
        "char_rnn = CharRNNCell()\n",
        "criterion = nn.NLLLoss()\n",
        "opt = torch.optim.Adam(char_rnn.parameters())\n",
        "# opt = torch.optim.SGD(char_rnn.parameters())\n",
        "batch_size = 32\n",
        "num_iterations = 2000\n",
        "num_epochs = 20\n",
        "\n",
        "history_loss = []\n",
        "history_acc = []\n",
        "\n",
        "for epoch in range(num_epochs):\n",
        "    print(epoch)\n",
        "    epoch_loss = 0\n",
        "    epoch_accuracy = 0\n",
        "    for i in range(num_iterations):\n",
        "        opt.zero_grad()\n",
        "\n",
        "        batch_ix = text_to_matrix(sample(text, batch_size))\n",
        "        batch_ix = torch.tensor(batch_ix, dtype=torch.int64)\n",
        "\n",
        "        logp_seq = rnn_loop(char_rnn, batch_ix)\n",
        "\n",
        "        # compute loss\n",
        "        predictions_logp = logp_seq[:, :-1]\n",
        "        actual_next_tokens = batch_ix[:, 1:]\n",
        "\n",
        "        loss = criterion(\n",
        "            predictions_logp.contiguous().view(-1, len(tokens) + 1),\n",
        "            actual_next_tokens.contiguous().view(-1),\n",
        "        )\n",
        "\n",
        "        # train with backprop\n",
        "        loss.backward()\n",
        "        opt.step()\n",
        "        epoch_loss += loss.item()\n",
        "        accuracy = calculate_accuracy(predictions_logp, actual_next_tokens)\n",
        "        epoch_accuracy += accuracy\n",
        "\n",
        "    avg_epoch_loss = epoch_loss / num_iterations\n",
        "    avg_epoch_accuracy = epoch_accuracy / num_iterations\n",
        "    history_loss.append(avg_epoch_loss)\n",
        "    history_acc.append(avg_epoch_accuracy)"
      ]
    },
    {
      "cell_type": "markdown",
      "metadata": {
        "id": "7-QC4HwU4h8z"
      },
      "source": [
        "Plot the loss function (axis X: number of epochs, axis Y: loss function)."
      ]
    },
    {
      "cell_type": "code",
      "execution_count": 23,
      "metadata": {
        "colab": {
          "base_uri": "https://localhost:8080/",
          "height": 487
        },
        "id": "FT9ZnFNKB28t",
        "outputId": "27512287-c003-4c65-909a-9b269565ec11"
      },
      "outputs": [
        {
          "data": {
            "image/png": "[encoded data removed]",
            "text/plain": [
              "<Figure size 1200x400 with 2 Axes>"
            ]
          },
          "metadata": {},
          "output_type": "display_data"
        }
      ],
      "source": [
        "fig, axes = plt.subplots(1, 2, figsize=(12, 4))\n",
        "axes[0].plot(range(1, num_epochs + 1), history_loss, marker='o', label=\"Loss\")\n",
        "axes[0].set_title(\"Loss vs. Epochs\")\n",
        "axes[0].set_xlabel(\"Epochs\")\n",
        "axes[0].set_ylabel(\"Loss\")\n",
        "axes[0].grid(True)\n",
        "axes[0].legend()\n",
        "\n",
        "axes[1].plot(range(1, num_epochs + 1), history_acc, marker='o', label=\"Accuracy\")\n",
        "axes[1].set_title(\"Accuracy vs. Epochs\")\n",
        "axes[1].set_xlabel(\"Epochs\")\n",
        "axes[1].set_ylabel(\"Accuracy\")\n",
        "axes[1].grid(True)\n",
        "axes[1].legend()\n",
        "\n",
        "plt.show()"
      ]
    },
    {
      "cell_type": "code",
      "execution_count": null,
      "metadata": {
        "id": "b03qInWr4h8z"
      },
      "outputs": [],
      "source": [
        "# Your plot code here"
      ]
    },
    {
      "cell_type": "code",
      "execution_count": null,
      "metadata": {
        "id": "ZytiXKuO4h8z",
        "outputId": "9cf855b1-8d04-473b-c557-3198efe7343f"
      },
      "outputs": [],
      "source": [
        "# An example of generated text. There is no function `generate_text` in the code above.\n",
        "# print(generate_text(length=500, temperature=0.2))"
      ]
    },
    {
      "cell_type": "code",
      "execution_count": null,
      "metadata": {
        "id": "qdob2Th4JUEW"
      },
      "outputs": [],
      "source": [
        "def generate_sample(char_rnn, seed_phrase, max_length=11, temperature=0.2):\n",
        "    \"\"\"\n",
        "    The function generates text given a phrase of length at least SEQ_LENGTH.\n",
        "    :param seed_phrase: prefix characters. The RNN is asked to continue the phrase\n",
        "    :param max_length: maximum output length, including seed_phrase\n",
        "    :param temperature: coefficient for sampling.  higher temperature produces more chaotic outputs,\n",
        "                        smaller temperature converges to the single most likely output\n",
        "    \"\"\"\n",
        "    x_sequence = [token_to_idx[token] for token in seed_phrase]\n",
        "    x_sequence = torch.tensor([x_sequence], dtype=torch.int64)\n",
        "    hid_state = char_rnn.initial_state(batch_size=1)\n",
        "\n",
        "    # feed the seed phrase, if any\n",
        "    for i in range(len(seed_phrase) - 1):\n",
        "        hid_state, _ = char_rnn(x_sequence[:, i], hid_state)\n",
        "\n",
        "    # start generating\n",
        "    for _ in range(max_length - len(seed_phrase)):\n",
        "        hid_state, logits = char_rnn(x_sequence[:, -1], hid_state)\n",
        "        p_next = F.softmax(logits / temperature, dim=-1).data.numpy()[0]\n",
        "\n",
        "        # sample next token and push it back into x_sequence\n",
        "        next_ix = np.random.choice(len(tokens) + 1, p=p_next)\n",
        "        next_ix = torch.tensor([[next_ix]], dtype=torch.int64)\n",
        "        x_sequence = torch.cat([x_sequence, next_ix], dim=1)\n",
        "\n",
        "    return ' '.join([idx_to_token[ix] for ix in x_sequence.data.numpy()[0]])"
      ]
    },
    {
      "cell_type": "code",
      "execution_count": 24,
      "metadata": {},
      "outputs": [],
      "source": [
        "def generate_multiple_samples(char_rnn, seed_phrase, num_lines=6, max_length=11, temperature=0.2):\n",
        "    \"\"\"\n",
        "    Generates multiple lines of text where each new line starts with the last word of the previous line.\n",
        "    \n",
        "    :param seed_phrase: Initial seed phrase for generation\n",
        "    :param num_lines: Number of lines to generate\n",
        "    :param max_length: Maximum length of each generated line\n",
        "    :param temperature: Sampling temperature for diversity in output\n",
        "    \"\"\"\n",
        "    results = []\n",
        "    current_seed = seed_phrase\n",
        "    \n",
        "    for _ in range(num_lines):\n",
        "        x_sequence = [token_to_idx[token] for token in current_seed]\n",
        "        x_sequence = torch.tensor([x_sequence], dtype=torch.int64)\n",
        "        hid_state = char_rnn.initial_state(batch_size=1)\n",
        "        \n",
        "        for i in range(len(current_seed) - 1):\n",
        "            hid_state, _ = char_rnn(x_sequence[:, i], hid_state)\n",
        "        \n",
        "        for _ in range(max_length - len(current_seed)):\n",
        "            hid_state, logits = char_rnn(x_sequence[:, -1], hid_state)\n",
        "            p_next = F.softmax(logits / temperature, dim=-1).data.numpy()[0]\n",
        "            next_ix = np.random.choice(len(tokens) + 1, p=p_next)\n",
        "            next_ix = torch.tensor([[next_ix]], dtype=torch.int64)\n",
        "            x_sequence = torch.cat([x_sequence, next_ix], dim=1)\n",
        "        \n",
        "        vec_line = [idx_to_token[ix] for ix in x_sequence.data.numpy()[0]]\n",
        "        last_word = next(word for word in reversed(vec_line) if word)\n",
        "        current_seed = [last_word]\n",
        "        vec_line.remove(last_word)\n",
        "        generated_line = ' '.join(vec_line)\n",
        "        results.append(generated_line)\n",
        "\n",
        "    return '\\n'.join(results)\n"
      ]
    },
    {
      "cell_type": "code",
      "execution_count": 32,
      "metadata": {
        "colab": {
          "base_uri": "https://localhost:8080/"
        },
        "id": "fin4SC5HKA8w",
        "outputId": "fff19e8e-2358-4907-dcf0-ded467def86b"
      },
      "outputs": [
        {
          "name": "stdout",
          "output_type": "stream",
          "text": [
            "from their stars do i so    \n",
            "heart not the thing nor or    \n",
            "made old offences of affections     \n",
            "new the wide nor dark foul is   \n",
            "is poorly imitated after      \n",
            "you to a beauteous even upon the world the \n"
          ]
        }
      ],
      "source": [
        "print(generate_multiple_samples(char_rnn, seed_phrase=[\"from\"], temperature=0.8))"
      ]
    },
    {
      "cell_type": "markdown",
      "metadata": {
        "id": "0NFfgEGP4h80"
      },
      "source": [
        "### More poetic model\n",
        "\n",
        "Let's use LSTM instead of vanilla RNN and compare the results."
      ]
    },
    {
      "cell_type": "markdown",
      "metadata": {
        "id": "DBtPX83t4h80"
      },
      "source": [
        "Plot the loss function of the number of epochs. Does the final loss become better?"
      ]
    },
    {
      "cell_type": "code",
      "execution_count": null,
      "metadata": {
        "id": "IoEzwmz34h80"
      },
      "outputs": [],
      "source": [
        "# Your beautiful code here"
      ]
    },
    {
      "cell_type": "markdown",
      "metadata": {
        "id": "kPKtBEQ-4h80"
      },
      "source": [
        "Generate text using the trained net with different `temperature` parameter: `(0.1, 0.2, 0.5, 1.0, 2.0)`.\n",
        "\n",
        "Evaluate the results visually, try to interpret them."
      ]
    },
    {
      "cell_type": "code",
      "execution_count": null,
      "metadata": {
        "id": "6i4pKJtr4h80"
      },
      "outputs": [],
      "source": [
        "# Text generation with different temperature values here"
      ]
    },
    {
      "cell_type": "markdown",
      "metadata": {
        "id": "9ntUHdfF4h80"
      },
      "source": [
        "### Saving and loading models"
      ]
    },
    {
      "cell_type": "markdown",
      "metadata": {
        "id": "37SZIh1d4h80"
      },
      "source": [
        "Save the model to the disk, then load it and generate text.\n",
        "Follow guides from [this tutorial](https://pytorch.org/tutorials/beginner/saving_loading_models.html).\n",
        "\n",
        "You need to use `Save/Load state_dict (Recommended)` section aka save state dict."
      ]
    },
    {
      "cell_type": "code",
      "execution_count": null,
      "metadata": {
        "id": "EWYtvYTJ4h80"
      },
      "outputs": [],
      "source": [
        "# Saving and loading code here"
      ]
    },
    {
      "cell_type": "markdown",
      "metadata": {
        "id": "U09vQoIl4h80"
      },
      "source": [
        "## Additional materials on topic\n",
        "\n",
        "1. [Andrew Karpathy blog post about RNN.](http://karpathy.github.io/2015/05/21/rnn-effectiveness/)\\\n",
        "There are several examples of genration: Shakespeare texts, Latex formulas, Linux Sourse Code and children names.\n",
        "2. <a href='https://github.com/karpathy/char-rnn'> Repo with char-rnn code </a>\n",
        "3. Cool repo with [PyTorch examples](https://github.com/spro/practical-pytorch`)"
      ]
    }
  ],
  "metadata": {
    "anaconda-cloud": {},
    "colab": {
      "provenance": []
    },
    "kernelspec": {
      "display_name": "Python 3",
      "language": "python",
      "name": "python3"
    },
    "language_info": {
      "codemirror_mode": {
        "name": "ipython",
        "version": 3
      },
      "file_extension": ".py",
      "mimetype": "text/x-python",
      "name": "python",
      "nbconvert_exporter": "python",
      "pygments_lexer": "ipython3",
      "version": "3.12.7"
    },
    "toc": {
      "base_numbering": 1,
      "nav_menu": {},
      "number_sections": true,
      "sideBar": true,
      "skip_h1_title": false,
      "title_cell": "Table of Contents",
      "title_sidebar": "Contents",
      "toc_cell": false,
      "toc_position": {},
      "toc_section_display": true,
      "toc_window_display": true
    }
  },
  "nbformat": 4,
  "nbformat_minor": 0
}
